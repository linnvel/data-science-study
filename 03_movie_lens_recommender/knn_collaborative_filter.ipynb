{
 "cells": [
  {
   "cell_type": "markdown",
   "metadata": {},
   "source": [
    "# Collaborative Filtering with small dataset"
   ]
  },
  {
   "cell_type": "markdown",
   "metadata": {},
   "source": [
    "The data used in this code is MovieLens Latest dataset updated 9/2018. You can download data [here](http://files.grouplens.org/datasets/movielens/ml-latest-small.zip)."
   ]
  },
  {
   "cell_type": "code",
   "execution_count": 1,
   "metadata": {},
   "outputs": [
    {
     "ename": "NameError",
     "evalue": "name 'DataConversionWarning' is not defined",
     "output_type": "error",
     "traceback": [
      "\u001b[0;31m---------------------------------------------------------------------------\u001b[0m",
      "\u001b[0;31mNameError\u001b[0m                                 Traceback (most recent call last)",
      "\u001b[0;32m<ipython-input-1-a015ef2390a2>\u001b[0m in \u001b[0;36m<module>\u001b[0;34m\u001b[0m\n\u001b[1;32m     11\u001b[0m \u001b[0;32mimport\u001b[0m \u001b[0mwarnings\u001b[0m\u001b[0;34m\u001b[0m\u001b[0;34m\u001b[0m\u001b[0m\n\u001b[1;32m     12\u001b[0m \u001b[0;31m#from sklearn.exceptions import DataConversionWarning\u001b[0m\u001b[0;34m\u001b[0m\u001b[0;34m\u001b[0m\u001b[0;34m\u001b[0m\u001b[0m\n\u001b[0;32m---> 13\u001b[0;31m \u001b[0mwarnings\u001b[0m\u001b[0;34m.\u001b[0m\u001b[0mfilterwarnings\u001b[0m\u001b[0;34m(\u001b[0m\u001b[0maction\u001b[0m\u001b[0;34m=\u001b[0m\u001b[0;34m'ignore'\u001b[0m\u001b[0;34m,\u001b[0m \u001b[0mcategory\u001b[0m\u001b[0;34m=\u001b[0m\u001b[0mDataConversionWarning\u001b[0m\u001b[0;34m)\u001b[0m\u001b[0;34m\u001b[0m\u001b[0;34m\u001b[0m\u001b[0m\n\u001b[0m\u001b[1;32m     14\u001b[0m \u001b[0;34m\u001b[0m\u001b[0m\n\u001b[1;32m     15\u001b[0m \u001b[0;34m\u001b[0m\u001b[0m\n",
      "\u001b[0;31mNameError\u001b[0m: name 'DataConversionWarning' is not defined"
     ]
    }
   ],
   "source": [
    "import pandas as pd\n",
    "import numpy as np\n",
    "from scipy.sparse import csr_matrix\n",
    "from sklearn.neighbors import NearestNeighbors\n",
    "from sklearn.model_selection import KFold\n",
    "import time\n",
    "from sklearn.model_selection import ParameterGrid\n",
    "import matplotlib.pyplot as plt\n",
    "\n",
    "\n",
    "import warnings\n",
    "#from sklearn.exceptions import DataConversionWarning \n",
    "warnings.filterwarnings(action='ignore', category=DataConversionWarning)\n",
    "\n",
    "\n",
    "#Change path to run\n",
    "ratings = pd.read_csv('MovieLens/ml-latest-small/ratings.csv',sep=',',usecols=range(3))\n",
    "movies = pd.read_csv('MovieLens/ml-latest-small/movies.csv',sep=',')\n",
    "ratings = pd.merge(movies, ratings)\n",
    "\n",
    "ratings.head(10)"
   ]
  },
  {
   "cell_type": "code",
   "execution_count": 77,
   "metadata": {},
   "outputs": [],
   "source": [
    "ratings_shuffle = ratings.sample(frac=1)"
   ]
  },
  {
   "cell_type": "code",
   "execution_count": 163,
   "metadata": {},
   "outputs": [
    {
     "data": {
      "text/html": [
       "<div>\n",
       "<style scoped>\n",
       "    .dataframe tbody tr th:only-of-type {\n",
       "        vertical-align: middle;\n",
       "    }\n",
       "\n",
       "    .dataframe tbody tr th {\n",
       "        vertical-align: top;\n",
       "    }\n",
       "\n",
       "    .dataframe thead th {\n",
       "        text-align: right;\n",
       "    }\n",
       "</style>\n",
       "<table border=\"1\" class=\"dataframe\">\n",
       "  <thead>\n",
       "    <tr style=\"text-align: right;\">\n",
       "      <th></th>\n",
       "      <th>movieId</th>\n",
       "      <th>title</th>\n",
       "      <th>genres</th>\n",
       "      <th>userId</th>\n",
       "      <th>rating</th>\n",
       "    </tr>\n",
       "  </thead>\n",
       "  <tbody>\n",
       "    <tr>\n",
       "      <th>53798</th>\n",
       "      <td>3384</td>\n",
       "      <td>Taking of Pelham One Two Three, The (1974)</td>\n",
       "      <td>Action|Crime</td>\n",
       "      <td>474</td>\n",
       "      <td>4.0</td>\n",
       "    </tr>\n",
       "    <tr>\n",
       "      <th>97134</th>\n",
       "      <td>112138</td>\n",
       "      <td>22 Jump Street (2014)</td>\n",
       "      <td>Action|Comedy|Crime</td>\n",
       "      <td>89</td>\n",
       "      <td>3.0</td>\n",
       "    </tr>\n",
       "    <tr>\n",
       "      <th>72938</th>\n",
       "      <td>6936</td>\n",
       "      <td>Elf (2003)</td>\n",
       "      <td>Children|Comedy|Fantasy</td>\n",
       "      <td>89</td>\n",
       "      <td>2.0</td>\n",
       "    </tr>\n",
       "    <tr>\n",
       "      <th>91021</th>\n",
       "      <td>76293</td>\n",
       "      <td>Date Night (2010)</td>\n",
       "      <td>Action|Comedy|Romance</td>\n",
       "      <td>177</td>\n",
       "      <td>2.5</td>\n",
       "    </tr>\n",
       "    <tr>\n",
       "      <th>26762</th>\n",
       "      <td>1222</td>\n",
       "      <td>Full Metal Jacket (1987)</td>\n",
       "      <td>Drama|War</td>\n",
       "      <td>36</td>\n",
       "      <td>2.5</td>\n",
       "    </tr>\n",
       "    <tr>\n",
       "      <th>41778</th>\n",
       "      <td>2302</td>\n",
       "      <td>My Cousin Vinny (1992)</td>\n",
       "      <td>Comedy</td>\n",
       "      <td>19</td>\n",
       "      <td>3.0</td>\n",
       "    </tr>\n",
       "    <tr>\n",
       "      <th>60362</th>\n",
       "      <td>4144</td>\n",
       "      <td>In the Mood For Love (Fa yeung nin wa) (2000)</td>\n",
       "      <td>Drama|Romance</td>\n",
       "      <td>567</td>\n",
       "      <td>4.5</td>\n",
       "    </tr>\n",
       "    <tr>\n",
       "      <th>69759</th>\n",
       "      <td>6036</td>\n",
       "      <td>Secret Admirer (1985)</td>\n",
       "      <td>Comedy|Romance</td>\n",
       "      <td>414</td>\n",
       "      <td>3.0</td>\n",
       "    </tr>\n",
       "    <tr>\n",
       "      <th>82706</th>\n",
       "      <td>45880</td>\n",
       "      <td>Marie Antoinette (2006)</td>\n",
       "      <td>Drama|Romance</td>\n",
       "      <td>50</td>\n",
       "      <td>2.5</td>\n",
       "    </tr>\n",
       "    <tr>\n",
       "      <th>45</th>\n",
       "      <td>1</td>\n",
       "      <td>Toy Story (1995)</td>\n",
       "      <td>Adventure|Animation|Children|Comedy|Fantasy</td>\n",
       "      <td>135</td>\n",
       "      <td>4.0</td>\n",
       "    </tr>\n",
       "  </tbody>\n",
       "</table>\n",
       "</div>"
      ],
      "text/plain": [
       "       movieId                                          title  \\\n",
       "53798     3384     Taking of Pelham One Two Three, The (1974)   \n",
       "97134   112138                          22 Jump Street (2014)   \n",
       "72938     6936                                     Elf (2003)   \n",
       "91021    76293                              Date Night (2010)   \n",
       "26762     1222                       Full Metal Jacket (1987)   \n",
       "41778     2302                         My Cousin Vinny (1992)   \n",
       "60362     4144  In the Mood For Love (Fa yeung nin wa) (2000)   \n",
       "69759     6036                          Secret Admirer (1985)   \n",
       "82706    45880                        Marie Antoinette (2006)   \n",
       "45           1                               Toy Story (1995)   \n",
       "\n",
       "                                            genres  userId  rating  \n",
       "53798                                 Action|Crime     474     4.0  \n",
       "97134                          Action|Comedy|Crime      89     3.0  \n",
       "72938                      Children|Comedy|Fantasy      89     2.0  \n",
       "91021                        Action|Comedy|Romance     177     2.5  \n",
       "26762                                    Drama|War      36     2.5  \n",
       "41778                                       Comedy      19     3.0  \n",
       "60362                                Drama|Romance     567     4.5  \n",
       "69759                               Comedy|Romance     414     3.0  \n",
       "82706                                Drama|Romance      50     2.5  \n",
       "45     Adventure|Animation|Children|Comedy|Fantasy     135     4.0  "
      ]
     },
     "execution_count": 163,
     "metadata": {},
     "output_type": "execute_result"
    }
   ],
   "source": [
    "ratings_shuffle.head(10)"
   ]
  },
  {
   "cell_type": "code",
   "execution_count": 61,
   "metadata": {
    "scrolled": true
   },
   "outputs": [
    {
     "data": {
      "text/html": [
       "<div>\n",
       "<style scoped>\n",
       "    .dataframe tbody tr th:only-of-type {\n",
       "        vertical-align: middle;\n",
       "    }\n",
       "\n",
       "    .dataframe tbody tr th {\n",
       "        vertical-align: top;\n",
       "    }\n",
       "\n",
       "    .dataframe thead th {\n",
       "        text-align: right;\n",
       "    }\n",
       "</style>\n",
       "<table border=\"1\" class=\"dataframe\">\n",
       "  <thead>\n",
       "    <tr style=\"text-align: right;\">\n",
       "      <th>userId</th>\n",
       "      <th>1</th>\n",
       "      <th>2</th>\n",
       "      <th>3</th>\n",
       "      <th>4</th>\n",
       "      <th>5</th>\n",
       "      <th>6</th>\n",
       "      <th>7</th>\n",
       "      <th>8</th>\n",
       "      <th>9</th>\n",
       "      <th>10</th>\n",
       "      <th>...</th>\n",
       "      <th>601</th>\n",
       "      <th>602</th>\n",
       "      <th>603</th>\n",
       "      <th>604</th>\n",
       "      <th>605</th>\n",
       "      <th>606</th>\n",
       "      <th>607</th>\n",
       "      <th>608</th>\n",
       "      <th>609</th>\n",
       "      <th>610</th>\n",
       "    </tr>\n",
       "    <tr>\n",
       "      <th>movieId</th>\n",
       "      <th></th>\n",
       "      <th></th>\n",
       "      <th></th>\n",
       "      <th></th>\n",
       "      <th></th>\n",
       "      <th></th>\n",
       "      <th></th>\n",
       "      <th></th>\n",
       "      <th></th>\n",
       "      <th></th>\n",
       "      <th></th>\n",
       "      <th></th>\n",
       "      <th></th>\n",
       "      <th></th>\n",
       "      <th></th>\n",
       "      <th></th>\n",
       "      <th></th>\n",
       "      <th></th>\n",
       "      <th></th>\n",
       "      <th></th>\n",
       "      <th></th>\n",
       "    </tr>\n",
       "  </thead>\n",
       "  <tbody>\n",
       "    <tr>\n",
       "      <th>1</th>\n",
       "      <td>4.0</td>\n",
       "      <td>0.0</td>\n",
       "      <td>0.0</td>\n",
       "      <td>0.0</td>\n",
       "      <td>4.0</td>\n",
       "      <td>0.0</td>\n",
       "      <td>4.5</td>\n",
       "      <td>0.0</td>\n",
       "      <td>0.0</td>\n",
       "      <td>0.0</td>\n",
       "      <td>...</td>\n",
       "      <td>4.0</td>\n",
       "      <td>0.0</td>\n",
       "      <td>4.0</td>\n",
       "      <td>3.0</td>\n",
       "      <td>4.0</td>\n",
       "      <td>2.5</td>\n",
       "      <td>4.0</td>\n",
       "      <td>2.5</td>\n",
       "      <td>3.0</td>\n",
       "      <td>5.0</td>\n",
       "    </tr>\n",
       "    <tr>\n",
       "      <th>2</th>\n",
       "      <td>0.0</td>\n",
       "      <td>0.0</td>\n",
       "      <td>0.0</td>\n",
       "      <td>0.0</td>\n",
       "      <td>0.0</td>\n",
       "      <td>4.0</td>\n",
       "      <td>0.0</td>\n",
       "      <td>4.0</td>\n",
       "      <td>0.0</td>\n",
       "      <td>0.0</td>\n",
       "      <td>...</td>\n",
       "      <td>0.0</td>\n",
       "      <td>4.0</td>\n",
       "      <td>0.0</td>\n",
       "      <td>5.0</td>\n",
       "      <td>3.5</td>\n",
       "      <td>0.0</td>\n",
       "      <td>0.0</td>\n",
       "      <td>2.0</td>\n",
       "      <td>0.0</td>\n",
       "      <td>0.0</td>\n",
       "    </tr>\n",
       "    <tr>\n",
       "      <th>3</th>\n",
       "      <td>4.0</td>\n",
       "      <td>0.0</td>\n",
       "      <td>0.0</td>\n",
       "      <td>0.0</td>\n",
       "      <td>0.0</td>\n",
       "      <td>5.0</td>\n",
       "      <td>0.0</td>\n",
       "      <td>0.0</td>\n",
       "      <td>0.0</td>\n",
       "      <td>0.0</td>\n",
       "      <td>...</td>\n",
       "      <td>0.0</td>\n",
       "      <td>0.0</td>\n",
       "      <td>0.0</td>\n",
       "      <td>0.0</td>\n",
       "      <td>0.0</td>\n",
       "      <td>0.0</td>\n",
       "      <td>0.0</td>\n",
       "      <td>2.0</td>\n",
       "      <td>0.0</td>\n",
       "      <td>0.0</td>\n",
       "    </tr>\n",
       "    <tr>\n",
       "      <th>4</th>\n",
       "      <td>0.0</td>\n",
       "      <td>0.0</td>\n",
       "      <td>0.0</td>\n",
       "      <td>0.0</td>\n",
       "      <td>0.0</td>\n",
       "      <td>3.0</td>\n",
       "      <td>0.0</td>\n",
       "      <td>0.0</td>\n",
       "      <td>0.0</td>\n",
       "      <td>0.0</td>\n",
       "      <td>...</td>\n",
       "      <td>0.0</td>\n",
       "      <td>0.0</td>\n",
       "      <td>0.0</td>\n",
       "      <td>0.0</td>\n",
       "      <td>0.0</td>\n",
       "      <td>0.0</td>\n",
       "      <td>0.0</td>\n",
       "      <td>0.0</td>\n",
       "      <td>0.0</td>\n",
       "      <td>0.0</td>\n",
       "    </tr>\n",
       "    <tr>\n",
       "      <th>5</th>\n",
       "      <td>0.0</td>\n",
       "      <td>0.0</td>\n",
       "      <td>0.0</td>\n",
       "      <td>0.0</td>\n",
       "      <td>0.0</td>\n",
       "      <td>5.0</td>\n",
       "      <td>0.0</td>\n",
       "      <td>0.0</td>\n",
       "      <td>0.0</td>\n",
       "      <td>0.0</td>\n",
       "      <td>...</td>\n",
       "      <td>0.0</td>\n",
       "      <td>0.0</td>\n",
       "      <td>0.0</td>\n",
       "      <td>3.0</td>\n",
       "      <td>0.0</td>\n",
       "      <td>0.0</td>\n",
       "      <td>0.0</td>\n",
       "      <td>0.0</td>\n",
       "      <td>0.0</td>\n",
       "      <td>0.0</td>\n",
       "    </tr>\n",
       "  </tbody>\n",
       "</table>\n",
       "<p>5 rows × 610 columns</p>\n",
       "</div>"
      ],
      "text/plain": [
       "userId   1    2    3    4    5    6    7    8    9    10  ...   601  602  603  \\\n",
       "movieId                                                   ...                   \n",
       "1        4.0  0.0  0.0  0.0  4.0  0.0  4.5  0.0  0.0  0.0 ...   4.0  0.0  4.0   \n",
       "2        0.0  0.0  0.0  0.0  0.0  4.0  0.0  4.0  0.0  0.0 ...   0.0  4.0  0.0   \n",
       "3        4.0  0.0  0.0  0.0  0.0  5.0  0.0  0.0  0.0  0.0 ...   0.0  0.0  0.0   \n",
       "4        0.0  0.0  0.0  0.0  0.0  3.0  0.0  0.0  0.0  0.0 ...   0.0  0.0  0.0   \n",
       "5        0.0  0.0  0.0  0.0  0.0  5.0  0.0  0.0  0.0  0.0 ...   0.0  0.0  0.0   \n",
       "\n",
       "userId   604  605  606  607  608  609  610  \n",
       "movieId                                     \n",
       "1        3.0  4.0  2.5  4.0  2.5  3.0  5.0  \n",
       "2        5.0  3.5  0.0  0.0  2.0  0.0  0.0  \n",
       "3        0.0  0.0  0.0  0.0  2.0  0.0  0.0  \n",
       "4        0.0  0.0  0.0  0.0  0.0  0.0  0.0  \n",
       "5        3.0  0.0  0.0  0.0  0.0  0.0  0.0  \n",
       "\n",
       "[5 rows x 610 columns]"
      ]
     },
     "execution_count": 61,
     "metadata": {},
     "output_type": "execute_result"
    }
   ],
   "source": [
    "# Create utility matrix\n",
    "df_movie_features = ratings.pivot(index='movieId',columns='userId',values='rating').fillna(0)\n",
    "M=df_movie_features.shape[0]\n",
    "U=df_movie_features.shape[1]\n",
    "df_movie_features.head()"
   ]
  },
  {
   "cell_type": "code",
   "execution_count": 4,
   "metadata": {},
   "outputs": [],
   "source": [
    "mat_movie_features = csr_matrix(df_movie_features.values)"
   ]
  },
  {
   "cell_type": "code",
   "execution_count": 5,
   "metadata": {},
   "outputs": [
    {
     "data": {
      "text/plain": [
       "NearestNeighbors(algorithm='brute', leaf_size=30, metric='cosine',\n",
       "         metric_params=None, n_jobs=-1, n_neighbors=10, p=2, radius=1.0)"
      ]
     },
     "execution_count": 5,
     "metadata": {},
     "output_type": "execute_result"
    }
   ],
   "source": [
    "model_knn = NearestNeighbors(metric='cosine', algorithm='brute', n_neighbors=10, n_jobs=-1)\n",
    "model_knn.fit(df_movie_features.values)"
   ]
  },
  {
   "cell_type": "code",
   "execution_count": 6,
   "metadata": {},
   "outputs": [],
   "source": [
    "distance,indice=model_knn.kneighbors(df_movie_features.values,n_neighbors=10)"
   ]
  },
  {
   "cell_type": "code",
   "execution_count": 7,
   "metadata": {},
   "outputs": [
    {
     "name": "stdout",
     "output_type": "stream",
     "text": [
      "(9724, 9724)\n"
     ]
    }
   ],
   "source": [
    "S = np.zeros((M,M))\n",
    "for i in range(0,M):\n",
    "    S[i,indice[i,]]=distance[i,]\n",
    "    S[i,i]=1\n",
    "#print(S[0,:].sum())\n",
    "print(S.shape)"
   ]
  },
  {
   "cell_type": "code",
   "execution_count": 8,
   "metadata": {
    "scrolled": true
   },
   "outputs": [],
   "source": [
    "tmp=abs(S).sum(axis=1)\n",
    "df_pred=np.dot(S,df_movie_features)/tmp[:,None]"
   ]
  },
  {
   "cell_type": "code",
   "execution_count": 9,
   "metadata": {},
   "outputs": [
    {
     "data": {
      "text/plain": [
       "1.6844142906795845"
      ]
     },
     "execution_count": 9,
     "metadata": {},
     "output_type": "execute_result"
    }
   ],
   "source": [
    "rmse_knn=np.sqrt(np.nanmean(np.square(df_movie_features[df_movie_features!=0]-df_pred)))\n",
    "rmse_knn"
   ]
  },
  {
   "cell_type": "code",
   "execution_count": 10,
   "metadata": {},
   "outputs": [
    {
     "data": {
      "text/plain": [
       "1.2960139608381611"
      ]
     },
     "execution_count": 10,
     "metadata": {},
     "output_type": "execute_result"
    }
   ],
   "source": [
    "mae=np.nanmean(df_movie_features[df_movie_features!=0].abs()-np.abs(df_pred))\n",
    "mae"
   ]
  },
  {
   "cell_type": "markdown",
   "metadata": {},
   "source": [
    "# Cross Validation"
   ]
  },
  {
   "cell_type": "markdown",
   "metadata": {},
   "source": [
    "## Item-Based CF"
   ]
  },
  {
   "cell_type": "code",
   "execution_count": 155,
   "metadata": {},
   "outputs": [],
   "source": [
    "def data_process(data,item_flag):\n",
    "    if item_flag: # item-based CF\n",
    "        df_processed = data.pivot(index='movieId',columns='userId',values='rating').fillna(0)\n",
    "    else:\n",
    "        df_processed = data.pivot(index='userId',columns='movieId',values='rating').fillna(0)\n",
    "    return df_processed,df_processed.shape[0]\n",
    "def data_extend(data,target_data):\n",
    "    df_extended=pd.DataFrame(np.zeros((target_data.shape[0],target_data.shape[1])),index=target_data.index.unique(),\n",
    "                   columns=target_data.columns.unique())\n",
    "    df_extended.loc[data.index,data.columns]=data\n",
    "    return df_extended   "
   ]
  },
  {
   "cell_type": "code",
   "execution_count": 214,
   "metadata": {},
   "outputs": [],
   "source": [
    "# cross validation\n",
    "def CV(model,nneigh,nfolds,data,verbose,item_flag):\n",
    "    kf=KFold(n_splits=nfolds)\n",
    "    rmse_train=[]\n",
    "    mae_train=[]\n",
    "    rmse_test=[]\n",
    "    mae_test=[]\n",
    "    for j, (train_index, test_index) in enumerate(kf.split(data)):\n",
    "        if not verbose:\n",
    "            print(\"----Now processing fold: %d----\" % (j+1))\n",
    "        start = time.time()\n",
    "        train, test = data.iloc[train_index], data.iloc[test_index]\n",
    "        df_movie_features,M=data_process(data,item_flag)\n",
    "        train,M_train = data_process(train,item_flag)\n",
    "        test,M_test = data_process(test,item_flag)\n",
    "        \n",
    "        train_extend=data_extend(train,df_movie_features)\n",
    "        test_extend=data_extend(test,df_movie_features)\n",
    "        model.fit(train.values)\n",
    "        \n",
    "        #train model\n",
    "        distance,indice=model.kneighbors(train.values,n_neighbors=nneigh)\n",
    "        S = pd.DataFrame(np.eye(M),index=df_movie_features.index.unique(),columns=df_movie_features.index.unique())\n",
    "        for i in range(0,M_train):\n",
    "            S.loc[train.index[i],train.index[indice[i,]]]=1-distance[i,]\n",
    "\n",
    "        #predict \n",
    "        tmp=abs(S).sum(axis=1)\n",
    "        pred=np.dot(S,train_extend)/tmp[:,None]\n",
    "        #print(np.sqrt(np.nanmean(np.square(train_extend[train_extend!=0]-pred_train))))\n",
    "        #print(np.nanmean(train_extend[train_extend!=0].abs()-np.abs(pred_train)))      \n",
    "        \n",
    "        #evaluate\n",
    "        #train\n",
    "        rmse_train.append(np.sqrt(np.nanmean(np.square(train_extend[train_extend!=0]-pred))))\n",
    "        mae_train.append(np.nanmean(train_extend[train_extend!=0].abs()-np.abs(pred))) \n",
    "        \n",
    "        #test\n",
    "\n",
    "        tmp=abs(S).sum(axis=1)\n",
    "       # pred_test=np.dot(S,test_extend)/tmp[:,None]\n",
    "        rmse_test.append(np.sqrt(np.nanmean(np.square(test_extend[test_extend!=0]-pred))))\n",
    "        mae_test.append(np.nanmean(test_extend[test_extend!=0].abs()-np.abs(pred)))      \n",
    "        #print(np.sqrt(np.nanmean(np.square(test_extend[test_extend!=0]-pred_test))))\n",
    "        #print(np.nanmean(test_extend[test_extend!=0].abs()-np.abs(pred_test)))      \n",
    "        \n",
    "        if not verbose:\n",
    "            #print(\"----This fold: %d is finished in %.4f----\" %( i+1, (time.time()-start)))\n",
    "            print(\"Fold %d cost time %.4f, train RMSE: %.4f, calibration RMSE: %.4f, train MAE: %.4f, calibration MAE: %.4f\" % \\\n",
    "                  (j+1, time.time()-start, rmse_train[j], rmse_test[j], mae_train[j], mae_test[j]))\n",
    "    return (np.mean(rmse_test, axis = 0),np.mean(mae_test, axis = 0),np.mean(rmse_train, axis = 0),np.mean(mae_train, axis = 0))"
   ]
  },
  {
   "cell_type": "code",
   "execution_count": 215,
   "metadata": {},
   "outputs": [
    {
     "name": "stdout",
     "output_type": "stream",
     "text": [
      "----Now processing fold: 1----\n",
      "Fold 1 cost time 46.8290, train RMSE: 1.9612, calibration RMSE: 3.2403, train MAE: 1.6801, calibration MAE: 3.0506\n",
      "----Now processing fold: 2----\n",
      "Fold 2 cost time 41.3516, train RMSE: 1.9682, calibration RMSE: 3.2299, train MAE: 1.6845, calibration MAE: 3.0407\n",
      "----Now processing fold: 3----\n",
      "Fold 3 cost time 31.8854, train RMSE: 1.9520, calibration RMSE: 3.2344, train MAE: 1.6648, calibration MAE: 3.0399\n"
     ]
    }
   ],
   "source": [
    "model_knn = NearestNeighbors(metric='cosine', algorithm='brute', n_neighbors=10, n_jobs=-1)\n",
    "knn_cv_item = CV(model_knn,nneigh=10,nfolds=3,data=ratings_shuffle,verbose=0,item_flag=1)"
   ]
  },
  {
   "cell_type": "code",
   "execution_count": 216,
   "metadata": {},
   "outputs": [
    {
     "name": "stdout",
     "output_type": "stream",
     "text": [
      "average RMSE: 3.2349, average MAE: 3.0437\n"
     ]
    }
   ],
   "source": [
    "print(\"average RMSE: {:.4f}, average MAE: {:.4f}\".format(knn_cv_item[0],knn_cv_item[1]))"
   ]
  },
  {
   "cell_type": "markdown",
   "metadata": {},
   "source": [
    "## User-Based CF"
   ]
  },
  {
   "cell_type": "code",
   "execution_count": 217,
   "metadata": {},
   "outputs": [
    {
     "name": "stdout",
     "output_type": "stream",
     "text": [
      "----Now processing fold: 1----\n",
      "Fold 1 cost time 3.0934, train RMSE: 1.9424, calibration RMSE: 3.1226, train MAE: 1.7537, calibration MAE: 2.9266\n",
      "----Now processing fold: 2----\n",
      "Fold 2 cost time 5.9157, train RMSE: 1.9369, calibration RMSE: 3.1090, train MAE: 1.7492, calibration MAE: 2.9098\n",
      "----Now processing fold: 3----\n",
      "Fold 3 cost time 3.1861, train RMSE: 1.9301, calibration RMSE: 3.1113, train MAE: 1.7446, calibration MAE: 2.9130\n"
     ]
    }
   ],
   "source": [
    "knn_cv_user = CV(model_knn,nneigh=10,nfolds=3,data=ratings_shuffle,verbose=0,item_flag=0)"
   ]
  },
  {
   "cell_type": "code",
   "execution_count": 218,
   "metadata": {},
   "outputs": [
    {
     "name": "stdout",
     "output_type": "stream",
     "text": [
      "average RMSE: 3.1143, average MAE: 2.9165\n"
     ]
    }
   ],
   "source": [
    "print(\"average RMSE: {:.4f}, average MAE: {:.4f}\".format(knn_cv_user[0],knn_cv_user[1]))"
   ]
  },
  {
   "cell_type": "markdown",
   "metadata": {},
   "source": [
    "# Grid Search"
   ]
  },
  {
   "cell_type": "code",
   "execution_count": 227,
   "metadata": {},
   "outputs": [
    {
     "name": "stdout",
     "output_type": "stream",
     "text": [
      "--------------Start Parameter Set: 5 cosine 0 ----------------\n",
      "----Now processing fold: 1----\n",
      "Fold 1 cost time 5.1918, train RMSE: 1.4622, calibration RMSE: 3.2356, train MAE: 1.2811, calibration MAE: 3.0453\n",
      "----Now processing fold: 2----\n",
      "Fold 2 cost time 2.9162, train RMSE: 1.4567, calibration RMSE: 3.2268, train MAE: 1.2758, calibration MAE: 3.0341\n",
      "----Now processing fold: 3----\n",
      "Fold 3 cost time 3.1182, train RMSE: 1.4524, calibration RMSE: 3.2338, train MAE: 1.2750, calibration MAE: 3.0424\n",
      "--------------Start Parameter Set: 10 cosine 0 ----------------\n",
      "----Now processing fold: 1----\n",
      "Fold 1 cost time 2.7778, train RMSE: 1.9424, calibration RMSE: 3.1226, train MAE: 1.7537, calibration MAE: 2.9266\n",
      "----Now processing fold: 2----\n",
      "Fold 2 cost time 2.6819, train RMSE: 1.9369, calibration RMSE: 3.1090, train MAE: 1.7492, calibration MAE: 2.9098\n",
      "----Now processing fold: 3----\n",
      "Fold 3 cost time 3.4179, train RMSE: 1.9301, calibration RMSE: 3.1113, train MAE: 1.7446, calibration MAE: 2.9130\n",
      "--------------Start Parameter Set: 15 cosine 0 ----------------\n",
      "----Now processing fold: 1----\n",
      "Fold 1 cost time 2.5989, train RMSE: 2.1656, calibration RMSE: 3.0769, train MAE: 1.9743, calibration MAE: 2.8798\n",
      "----Now processing fold: 2----\n",
      "Fold 2 cost time 3.0650, train RMSE: 2.1638, calibration RMSE: 3.0649, train MAE: 1.9728, calibration MAE: 2.8643\n",
      "----Now processing fold: 3----\n",
      "Fold 3 cost time 3.1715, train RMSE: 2.1577, calibration RMSE: 3.0682, train MAE: 1.9701, calibration MAE: 2.8694\n",
      "--------------Start Parameter Set: 20 cosine 0 ----------------\n",
      "----Now processing fold: 1----\n",
      "Fold 1 cost time 3.5707, train RMSE: 2.3052, calibration RMSE: 3.0591, train MAE: 2.1136, calibration MAE: 2.8629\n",
      "----Now processing fold: 2----\n",
      "Fold 2 cost time 2.5874, train RMSE: 2.3009, calibration RMSE: 3.0434, train MAE: 2.1089, calibration MAE: 2.8433\n",
      "----Now processing fold: 3----\n",
      "Fold 3 cost time 3.0521, train RMSE: 2.2963, calibration RMSE: 3.0496, train MAE: 2.1068, calibration MAE: 2.8504\n",
      "--------------Start Parameter Set: 25 cosine 0 ----------------\n",
      "----Now processing fold: 1----\n",
      "Fold 1 cost time 3.0355, train RMSE: 2.4018, calibration RMSE: 3.0530, train MAE: 2.2098, calibration MAE: 2.8575\n",
      "----Now processing fold: 2----\n",
      "Fold 2 cost time 3.9320, train RMSE: 2.4002, calibration RMSE: 3.0392, train MAE: 2.2090, calibration MAE: 2.8409\n",
      "----Now processing fold: 3----\n",
      "Fold 3 cost time 2.7676, train RMSE: 2.3955, calibration RMSE: 3.0453, train MAE: 2.2063, calibration MAE: 2.8474\n",
      "--------------Start Parameter Set: 30 cosine 0 ----------------\n",
      "----Now processing fold: 1----\n",
      "Fold 1 cost time 3.1432, train RMSE: 2.4747, calibration RMSE: 3.0509, train MAE: 2.2831, calibration MAE: 2.8567\n",
      "----Now processing fold: 2----\n",
      "Fold 2 cost time 2.4600, train RMSE: 2.4740, calibration RMSE: 3.0375, train MAE: 2.2836, calibration MAE: 2.8407\n",
      "----Now processing fold: 3----\n",
      "Fold 3 cost time 2.6132, train RMSE: 2.4680, calibration RMSE: 3.0430, train MAE: 2.2793, calibration MAE: 2.8465\n",
      "--------------Start Parameter Set: 35 cosine 0 ----------------\n",
      "----Now processing fold: 1----\n",
      "Fold 1 cost time 2.7172, train RMSE: 2.5327, calibration RMSE: 3.0520, train MAE: 2.3419, calibration MAE: 2.8592\n",
      "----Now processing fold: 2----\n",
      "Fold 2 cost time 2.5638, train RMSE: 2.5299, calibration RMSE: 3.0369, train MAE: 2.3398, calibration MAE: 2.8411\n",
      "----Now processing fold: 3----\n",
      "Fold 3 cost time 2.5242, train RMSE: 2.5253, calibration RMSE: 3.0432, train MAE: 2.3372, calibration MAE: 2.8478\n",
      "--------------Start Parameter Set: 40 cosine 0 ----------------\n",
      "----Now processing fold: 1----\n",
      "Fold 1 cost time 2.8133, train RMSE: 2.5786, calibration RMSE: 3.0540, train MAE: 2.3888, calibration MAE: 2.8627\n",
      "----Now processing fold: 2----\n",
      "Fold 2 cost time 2.6697, train RMSE: 2.5765, calibration RMSE: 3.0391, train MAE: 2.3873, calibration MAE: 2.8449\n",
      "----Now processing fold: 3----\n",
      "Fold 3 cost time 2.6095, train RMSE: 2.5728, calibration RMSE: 3.0462, train MAE: 2.3852, calibration MAE: 2.8518\n",
      "--------------Start Parameter Set: 45 cosine 0 ----------------\n",
      "----Now processing fold: 1----\n",
      "Fold 1 cost time 2.6494, train RMSE: 2.6182, calibration RMSE: 3.0578, train MAE: 2.4294, calibration MAE: 2.8676\n",
      "----Now processing fold: 2----\n",
      "Fold 2 cost time 2.8818, train RMSE: 2.6169, calibration RMSE: 3.0439, train MAE: 2.4286, calibration MAE: 2.8508\n",
      "----Now processing fold: 3----\n",
      "Fold 3 cost time 2.6828, train RMSE: 2.6137, calibration RMSE: 3.0511, train MAE: 2.4270, calibration MAE: 2.8583\n",
      "--------------Start Parameter Set: 50 cosine 0 ----------------\n",
      "----Now processing fold: 1----\n",
      "Fold 1 cost time 2.7239, train RMSE: 2.6529, calibration RMSE: 3.0627, train MAE: 2.4646, calibration MAE: 2.8736\n",
      "----Now processing fold: 2----\n",
      "Fold 2 cost time 2.6643, train RMSE: 2.6509, calibration RMSE: 3.0480, train MAE: 2.4638, calibration MAE: 2.8563\n",
      "----Now processing fold: 3----\n",
      "Fold 3 cost time 2.7160, train RMSE: 2.6469, calibration RMSE: 3.0548, train MAE: 2.4610, calibration MAE: 2.8630\n",
      "--------------Start Parameter Set: 5 jaccard 0 ----------------\n",
      "----Now processing fold: 1----\n",
      "Fold 1 cost time 4.3784, train RMSE: 1.0576, calibration RMSE: 3.3514, train MAE: 0.9174, calibration MAE: 3.1774\n",
      "----Now processing fold: 2----\n",
      "Fold 2 cost time 4.7180, train RMSE: 1.0499, calibration RMSE: 3.3422, train MAE: 0.9113, calibration MAE: 3.1661\n",
      "----Now processing fold: 3----\n",
      "Fold 3 cost time 4.7238, train RMSE: 1.0501, calibration RMSE: 3.3516, train MAE: 0.9114, calibration MAE: 3.1751\n",
      "--------------Start Parameter Set: 10 jaccard 0 ----------------\n",
      "----Now processing fold: 1----\n",
      "Fold 1 cost time 4.7000, train RMSE: 1.5492, calibration RMSE: 3.2340, train MAE: 1.3890, calibration MAE: 3.0494\n",
      "----Now processing fold: 2----\n",
      "Fold 2 cost time 4.4378, train RMSE: 1.5453, calibration RMSE: 3.2252, train MAE: 1.3875, calibration MAE: 3.0396\n",
      "----Now processing fold: 3----\n",
      "Fold 3 cost time 4.2681, train RMSE: 1.5425, calibration RMSE: 3.2331, train MAE: 1.3852, calibration MAE: 3.0465\n",
      "--------------Start Parameter Set: 15 jaccard 0 ----------------\n",
      "----Now processing fold: 1----\n",
      "Fold 1 cost time 4.4328, train RMSE: 1.8170, calibration RMSE: 3.1829, train MAE: 1.6490, calibration MAE: 2.9946\n",
      "----Now processing fold: 2----\n",
      "Fold 2 cost time 4.2011, train RMSE: 1.8143, calibration RMSE: 3.1728, train MAE: 1.6476, calibration MAE: 2.9833\n",
      "----Now processing fold: 3----\n",
      "Fold 3 cost time 5.2071, train RMSE: 1.8113, calibration RMSE: 3.1807, train MAE: 1.6461, calibration MAE: 2.9904\n",
      "--------------Start Parameter Set: 20 jaccard 0 ----------------\n",
      "----Now processing fold: 1----\n",
      "Fold 1 cost time 5.3219, train RMSE: 1.9910, calibration RMSE: 3.1553, train MAE: 1.8187, calibration MAE: 2.9655\n",
      "----Now processing fold: 2----\n",
      "Fold 2 cost time 5.1432, train RMSE: 1.9912, calibration RMSE: 3.1465, train MAE: 1.8202, calibration MAE: 2.9551\n",
      "----Now processing fold: 3----\n",
      "Fold 3 cost time 4.6507, train RMSE: 1.9868, calibration RMSE: 3.1550, train MAE: 1.8168, calibration MAE: 2.9632\n",
      "--------------Start Parameter Set: 25 jaccard 0 ----------------\n",
      "----Now processing fold: 1----\n",
      "Fold 1 cost time 4.5421, train RMSE: 2.1165, calibration RMSE: 3.1412, train MAE: 1.9413, calibration MAE: 2.9505\n",
      "----Now processing fold: 2----\n",
      "Fold 2 cost time 5.1531, train RMSE: 2.1176, calibration RMSE: 3.1321, train MAE: 1.9442, calibration MAE: 2.9401\n",
      "----Now processing fold: 3----\n",
      "Fold 3 cost time 5.4988, train RMSE: 2.1112, calibration RMSE: 3.1379, train MAE: 1.9386, calibration MAE: 2.9453\n",
      "--------------Start Parameter Set: 30 jaccard 0 ----------------\n",
      "----Now processing fold: 1----\n",
      "Fold 1 cost time 4.9561, train RMSE: 2.2124, calibration RMSE: 3.1326, train MAE: 2.0355, calibration MAE: 2.9420\n",
      "----Now processing fold: 2----\n",
      "Fold 2 cost time 4.2346, train RMSE: 2.2146, calibration RMSE: 3.1238, train MAE: 2.0396, calibration MAE: 2.9317\n",
      "----Now processing fold: 3----\n",
      "Fold 3 cost time 4.2263, train RMSE: 2.2063, calibration RMSE: 3.1285, train MAE: 2.0318, calibration MAE: 2.9355\n",
      "--------------Start Parameter Set: 35 jaccard 0 ----------------\n",
      "----Now processing fold: 1----\n",
      "Fold 1 cost time 4.8889, train RMSE: 2.2884, calibration RMSE: 3.1278, train MAE: 2.1105, calibration MAE: 2.9376\n",
      "----Now processing fold: 2----\n"
     ]
    },
    {
     "name": "stdout",
     "output_type": "stream",
     "text": [
      "Fold 2 cost time 4.3900, train RMSE: 2.2902, calibration RMSE: 3.1182, train MAE: 2.1136, calibration MAE: 2.9258\n",
      "----Now processing fold: 3----\n",
      "Fold 3 cost time 4.6247, train RMSE: 2.2833, calibration RMSE: 3.1247, train MAE: 2.1078, calibration MAE: 2.9320\n",
      "--------------Start Parameter Set: 40 jaccard 0 ----------------\n",
      "----Now processing fold: 1----\n",
      "Fold 1 cost time 4.7206, train RMSE: 2.3511, calibration RMSE: 3.1260, train MAE: 2.1727, calibration MAE: 2.9364\n",
      "----Now processing fold: 2----\n",
      "Fold 2 cost time 4.5266, train RMSE: 2.3521, calibration RMSE: 3.1152, train MAE: 2.1750, calibration MAE: 2.9232\n",
      "----Now processing fold: 3----\n",
      "Fold 3 cost time 4.4680, train RMSE: 2.3455, calibration RMSE: 3.1222, train MAE: 2.1695, calibration MAE: 2.9301\n",
      "--------------Start Parameter Set: 45 jaccard 0 ----------------\n",
      "----Now processing fold: 1----\n",
      "Fold 1 cost time 4.5082, train RMSE: 2.4033, calibration RMSE: 3.1249, train MAE: 2.2247, calibration MAE: 2.9358\n",
      "----Now processing fold: 2----\n",
      "Fold 2 cost time 4.4535, train RMSE: 2.4046, calibration RMSE: 3.1139, train MAE: 2.2272, calibration MAE: 2.9226\n",
      "----Now processing fold: 3----\n",
      "Fold 3 cost time 4.5273, train RMSE: 2.3973, calibration RMSE: 3.1209, train MAE: 2.2209, calibration MAE: 2.9291\n",
      "--------------Start Parameter Set: 50 jaccard 0 ----------------\n",
      "----Now processing fold: 1----\n",
      "Fold 1 cost time 4.8199, train RMSE: 2.4483, calibration RMSE: 3.1251, train MAE: 2.2696, calibration MAE: 2.9365\n",
      "----Now processing fold: 2----\n",
      "Fold 2 cost time 6.1910, train RMSE: 2.4496, calibration RMSE: 3.1143, train MAE: 2.2721, calibration MAE: 2.9236\n",
      "----Now processing fold: 3----\n",
      "Fold 3 cost time 6.1250, train RMSE: 2.4433, calibration RMSE: 3.1222, train MAE: 2.2669, calibration MAE: 2.9311\n",
      "--------------Start Parameter Set: 5 correlation 0 ----------------\n",
      "----Now processing fold: 1----\n",
      "Fold 1 cost time 4.6505, train RMSE: 1.4354, calibration RMSE: 3.3064, train MAE: 1.2716, calibration MAE: 3.1279\n",
      "----Now processing fold: 2----\n",
      "Fold 2 cost time 4.5392, train RMSE: 1.4278, calibration RMSE: 3.2998, train MAE: 1.2666, calibration MAE: 3.1196\n",
      "----Now processing fold: 3----\n",
      "Fold 3 cost time 5.6536, train RMSE: 1.4271, calibration RMSE: 3.3048, train MAE: 1.2678, calibration MAE: 3.1258\n",
      "--------------Start Parameter Set: 10 correlation 0 ----------------\n",
      "----Now processing fold: 1----\n",
      "Fold 1 cost time 6.8856, train RMSE: 1.9286, calibration RMSE: 3.1932, train MAE: 1.7543, calibration MAE: 3.0086\n",
      "----Now processing fold: 2----\n",
      "Fold 2 cost time 5.2737, train RMSE: 1.9236, calibration RMSE: 3.1834, train MAE: 1.7510, calibration MAE: 2.9961\n",
      "----Now processing fold: 3----\n",
      "Fold 3 cost time 4.2840, train RMSE: 1.9212, calibration RMSE: 3.1900, train MAE: 1.7510, calibration MAE: 3.0040\n",
      "--------------Start Parameter Set: 15 correlation 0 ----------------\n",
      "----Now processing fold: 1----\n",
      "Fold 1 cost time 5.7797, train RMSE: 2.1693, calibration RMSE: 3.1557, train MAE: 1.9923, calibration MAE: 2.9705\n",
      "----Now processing fold: 2----\n",
      "Fold 2 cost time 5.0252, train RMSE: 2.1650, calibration RMSE: 3.1412, train MAE: 1.9877, calibration MAE: 2.9526\n",
      "----Now processing fold: 3----\n",
      "Fold 3 cost time 4.7376, train RMSE: 2.1603, calibration RMSE: 3.1472, train MAE: 1.9861, calibration MAE: 2.9595\n",
      "--------------Start Parameter Set: 20 correlation 0 ----------------\n",
      "----Now processing fold: 1----\n",
      "Fold 1 cost time 4.0491, train RMSE: 2.3158, calibration RMSE: 3.1375, train MAE: 2.1364, calibration MAE: 2.9519\n",
      "----Now processing fold: 2----\n",
      "Fold 2 cost time 4.5352, train RMSE: 2.3133, calibration RMSE: 3.1240, train MAE: 2.1343, calibration MAE: 2.9352\n",
      "----Now processing fold: 3----\n",
      "Fold 3 cost time 5.1362, train RMSE: 2.3074, calibration RMSE: 3.1275, train MAE: 2.1305, calibration MAE: 2.9396\n",
      "--------------Start Parameter Set: 25 correlation 0 ----------------\n",
      "----Now processing fold: 1----\n",
      "Fold 1 cost time 4.5883, train RMSE: 2.4188, calibration RMSE: 3.1303, train MAE: 2.2389, calibration MAE: 2.9453\n",
      "----Now processing fold: 2----\n",
      "Fold 2 cost time 4.0817, train RMSE: 2.4138, calibration RMSE: 3.1139, train MAE: 2.2343, calibration MAE: 2.9256\n",
      "----Now processing fold: 3----\n",
      "Fold 3 cost time 3.8921, train RMSE: 2.4088, calibration RMSE: 3.1188, train MAE: 2.2308, calibration MAE: 2.9306\n",
      "--------------Start Parameter Set: 30 correlation 0 ----------------\n",
      "----Now processing fold: 1----\n",
      "Fold 1 cost time 4.1702, train RMSE: 2.4944, calibration RMSE: 3.1259, train MAE: 2.3138, calibration MAE: 2.9413\n",
      "----Now processing fold: 2----\n",
      "Fold 2 cost time 4.6019, train RMSE: 2.4915, calibration RMSE: 3.1121, train MAE: 2.3122, calibration MAE: 2.9251\n",
      "----Now processing fold: 3----\n",
      "Fold 3 cost time 4.1119, train RMSE: 2.4830, calibration RMSE: 3.1126, train MAE: 2.3045, calibration MAE: 2.9252\n",
      "--------------Start Parameter Set: 35 correlation 0 ----------------\n",
      "----Now processing fold: 1----\n",
      "Fold 1 cost time 4.4168, train RMSE: 2.5517, calibration RMSE: 3.1231, train MAE: 2.3714, calibration MAE: 2.9391\n",
      "----Now processing fold: 2----\n",
      "Fold 2 cost time 4.4706, train RMSE: 2.5502, calibration RMSE: 3.1101, train MAE: 2.3707, calibration MAE: 2.9236\n",
      "----Now processing fold: 3----\n",
      "Fold 3 cost time 4.0028, train RMSE: 2.5421, calibration RMSE: 3.1107, train MAE: 2.3638, calibration MAE: 2.9241\n",
      "--------------Start Parameter Set: 40 correlation 0 ----------------\n",
      "----Now processing fold: 1----\n",
      "Fold 1 cost time 4.0931, train RMSE: 2.5978, calibration RMSE: 3.1216, train MAE: 2.4177, calibration MAE: 2.9383\n",
      "----Now processing fold: 2----\n",
      "Fold 2 cost time 3.8623, train RMSE: 2.5966, calibration RMSE: 3.1080, train MAE: 2.4173, calibration MAE: 2.9223\n",
      "----Now processing fold: 3----\n",
      "Fold 3 cost time 3.9264, train RMSE: 2.5896, calibration RMSE: 3.1108, train MAE: 2.4112, calibration MAE: 2.9246\n",
      "--------------Start Parameter Set: 45 correlation 0 ----------------\n",
      "----Now processing fold: 1----\n",
      "Fold 1 cost time 4.3872, train RMSE: 2.6380, calibration RMSE: 3.1225, train MAE: 2.4582, calibration MAE: 2.9399\n",
      "----Now processing fold: 2----\n",
      "Fold 2 cost time 3.9130, train RMSE: 2.6366, calibration RMSE: 3.1094, train MAE: 2.4578, calibration MAE: 2.9245\n",
      "----Now processing fold: 3----\n",
      "Fold 3 cost time 4.5799, train RMSE: 2.6298, calibration RMSE: 3.1126, train MAE: 2.4522, calibration MAE: 2.9275\n",
      "--------------Start Parameter Set: 50 correlation 0 ----------------\n",
      "----Now processing fold: 1----\n",
      "Fold 1 cost time 5.1305, train RMSE: 2.6718, calibration RMSE: 3.1241, train MAE: 2.4925, calibration MAE: 2.9425\n",
      "----Now processing fold: 2----\n",
      "Fold 2 cost time 5.0312, train RMSE: 2.6701, calibration RMSE: 3.1103, train MAE: 2.4918, calibration MAE: 2.9261\n",
      "----Now processing fold: 3----\n",
      "Fold 3 cost time 4.3588, train RMSE: 2.6642, calibration RMSE: 3.1149, train MAE: 2.4872, calibration MAE: 2.9308\n",
      "--------------Start Parameter Set: 5 cosine 1 ----------------\n",
      "----Now processing fold: 1----\n",
      "Fold 1 cost time 41.3163, train RMSE: 1.5889, calibration RMSE: 3.3095, train MAE: 1.3076, calibration MAE: 3.1234\n",
      "----Now processing fold: 2----\n",
      "Fold 2 cost time 33.5406, train RMSE: 1.5965, calibration RMSE: 3.2974, train MAE: 1.3126, calibration MAE: 3.1118\n",
      "----Now processing fold: 3----\n",
      "Fold 3 cost time 39.2293, train RMSE: 1.5836, calibration RMSE: 3.3004, train MAE: 1.2935, calibration MAE: 3.1087\n",
      "--------------Start Parameter Set: 10 cosine 1 ----------------\n",
      "----Now processing fold: 1----\n",
      "Fold 1 cost time 37.2317, train RMSE: 1.9612, calibration RMSE: 3.2403, train MAE: 1.6801, calibration MAE: 3.0506\n",
      "----Now processing fold: 2----\n",
      "Fold 2 cost time 33.1389, train RMSE: 1.9682, calibration RMSE: 3.2299, train MAE: 1.6845, calibration MAE: 3.0407\n",
      "----Now processing fold: 3----\n",
      "Fold 3 cost time 33.7633, train RMSE: 1.9520, calibration RMSE: 3.2344, train MAE: 1.6648, calibration MAE: 3.0399\n",
      "--------------Start Parameter Set: 15 cosine 1 ----------------\n",
      "----Now processing fold: 1----\n",
      "Fold 1 cost time 32.6830, train RMSE: 2.1294, calibration RMSE: 3.2191, train MAE: 1.8484, calibration MAE: 3.0294\n",
      "----Now processing fold: 2----\n",
      "Fold 2 cost time 30.4311, train RMSE: 2.1364, calibration RMSE: 3.2082, train MAE: 1.8532, calibration MAE: 3.0178\n",
      "----Now processing fold: 3----\n",
      "Fold 3 cost time 29.6765, train RMSE: 2.1223, calibration RMSE: 3.2144, train MAE: 1.8375, calibration MAE: 3.0205\n",
      "--------------Start Parameter Set: 20 cosine 1 ----------------\n",
      "----Now processing fold: 1----\n"
     ]
    },
    {
     "name": "stdout",
     "output_type": "stream",
     "text": [
      "Fold 1 cost time 29.2842, train RMSE: 2.2330, calibration RMSE: 3.2110, train MAE: 1.9504, calibration MAE: 3.0221\n",
      "----Now processing fold: 2----\n",
      "Fold 2 cost time 36.1098, train RMSE: 2.2376, calibration RMSE: 3.1984, train MAE: 1.9536, calibration MAE: 3.0081\n",
      "----Now processing fold: 3----\n",
      "Fold 3 cost time 30.3356, train RMSE: 2.2240, calibration RMSE: 3.2060, train MAE: 1.9392, calibration MAE: 3.0123\n",
      "--------------Start Parameter Set: 25 cosine 1 ----------------\n",
      "----Now processing fold: 1----\n",
      "Fold 1 cost time 33.8616, train RMSE: 2.3050, calibration RMSE: 3.2084, train MAE: 2.0213, calibration MAE: 3.0201\n",
      "----Now processing fold: 2----\n",
      "Fold 2 cost time 39.5405, train RMSE: 2.3072, calibration RMSE: 3.1941, train MAE: 2.0217, calibration MAE: 3.0039\n",
      "----Now processing fold: 3----\n",
      "Fold 3 cost time 32.1177, train RMSE: 2.2944, calibration RMSE: 3.2023, train MAE: 2.0089, calibration MAE: 3.0089\n",
      "--------------Start Parameter Set: 30 cosine 1 ----------------\n",
      "----Now processing fold: 1----\n",
      "Fold 1 cost time 41.9758, train RMSE: 2.3573, calibration RMSE: 3.2068, train MAE: 2.0723, calibration MAE: 3.0191\n",
      "----Now processing fold: 2----\n",
      "Fold 2 cost time 39.1018, train RMSE: 2.3605, calibration RMSE: 3.1936, train MAE: 2.0740, calibration MAE: 3.0039\n",
      "----Now processing fold: 3----\n",
      "Fold 3 cost time 37.4096, train RMSE: 2.3484, calibration RMSE: 3.2025, train MAE: 2.0631, calibration MAE: 3.0100\n",
      "--------------Start Parameter Set: 35 cosine 1 ----------------\n",
      "----Now processing fold: 1----\n",
      "Fold 1 cost time 45.9475, train RMSE: 2.4000, calibration RMSE: 3.2081, train MAE: 2.1147, calibration MAE: 3.0211\n",
      "----Now processing fold: 2----\n",
      "Fold 2 cost time 35.6911, train RMSE: 2.4023, calibration RMSE: 3.1944, train MAE: 2.1150, calibration MAE: 3.0052\n",
      "----Now processing fold: 3----\n",
      "Fold 3 cost time 43.7601, train RMSE: 2.3911, calibration RMSE: 3.2036, train MAE: 2.1056, calibration MAE: 3.0118\n",
      "--------------Start Parameter Set: 40 cosine 1 ----------------\n",
      "----Now processing fold: 1----\n",
      "Fold 1 cost time 32.6595, train RMSE: 2.4341, calibration RMSE: 3.2086, train MAE: 2.1481, calibration MAE: 3.0225\n",
      "----Now processing fold: 2----\n",
      "Fold 2 cost time 38.0847, train RMSE: 2.4369, calibration RMSE: 3.1960, train MAE: 2.1490, calibration MAE: 3.0073\n",
      "----Now processing fold: 3----\n",
      "Fold 3 cost time 37.4090, train RMSE: 2.4265, calibration RMSE: 3.2051, train MAE: 2.1397, calibration MAE: 3.0141\n",
      "--------------Start Parameter Set: 45 cosine 1 ----------------\n",
      "----Now processing fold: 1----\n",
      "Fold 1 cost time 41.8265, train RMSE: 2.4638, calibration RMSE: 3.2108, train MAE: 2.1768, calibration MAE: 3.0252\n",
      "----Now processing fold: 2----\n",
      "Fold 2 cost time 36.1342, train RMSE: 2.4670, calibration RMSE: 3.1983, train MAE: 2.1790, calibration MAE: 3.0103\n",
      "----Now processing fold: 3----\n",
      "Fold 3 cost time 37.5591, train RMSE: 2.4553, calibration RMSE: 3.2063, train MAE: 2.1678, calibration MAE: 3.0157\n",
      "--------------Start Parameter Set: 50 cosine 1 ----------------\n",
      "----Now processing fold: 1----\n",
      "Fold 1 cost time 34.4188, train RMSE: 2.4895, calibration RMSE: 3.2125, train MAE: 2.2017, calibration MAE: 3.0274\n",
      "----Now processing fold: 2----\n",
      "Fold 2 cost time 42.5412, train RMSE: 2.4931, calibration RMSE: 3.2011, train MAE: 2.2048, calibration MAE: 3.0138\n",
      "----Now processing fold: 3----\n",
      "Fold 3 cost time 42.7763, train RMSE: 2.4807, calibration RMSE: 3.2084, train MAE: 2.1925, calibration MAE: 3.0184\n",
      "--------------Start Parameter Set: 5 jaccard 1 ----------------\n",
      "----Now processing fold: 1----\n",
      "Fold 1 cost time 69.8047, train RMSE: 1.2926, calibration RMSE: 3.3208, train MAE: 0.9972, calibration MAE: 3.1439\n",
      "----Now processing fold: 2----\n",
      "Fold 2 cost time 63.5041, train RMSE: 1.2979, calibration RMSE: 3.3133, train MAE: 0.9996, calibration MAE: 3.1366\n",
      "----Now processing fold: 3----\n",
      "Fold 3 cost time 61.4677, train RMSE: 1.2925, calibration RMSE: 3.3173, train MAE: 0.9968, calibration MAE: 3.1370\n",
      "--------------Start Parameter Set: 10 jaccard 1 ----------------\n",
      "----Now processing fold: 1----\n",
      "Fold 1 cost time 71.1561, train RMSE: 1.6981, calibration RMSE: 3.2231, train MAE: 1.3790, calibration MAE: 3.0369\n",
      "----Now processing fold: 2----\n",
      "Fold 2 cost time 64.2535, train RMSE: 1.7030, calibration RMSE: 3.2125, train MAE: 1.3832, calibration MAE: 3.0260\n",
      "----Now processing fold: 3----\n",
      "Fold 3 cost time 66.8693, train RMSE: 1.6949, calibration RMSE: 3.2214, train MAE: 1.3771, calibration MAE: 3.0315\n",
      "--------------Start Parameter Set: 15 jaccard 1 ----------------\n",
      "----Now processing fold: 1----\n",
      "Fold 1 cost time 71.4460, train RMSE: 1.8987, calibration RMSE: 3.1850, train MAE: 1.5693, calibration MAE: 2.9951\n",
      "----Now processing fold: 2----\n",
      "Fold 2 cost time 58.7142, train RMSE: 1.9016, calibration RMSE: 3.1727, train MAE: 1.5703, calibration MAE: 2.9821\n",
      "----Now processing fold: 3----\n",
      "Fold 3 cost time 78.0402, train RMSE: 1.8923, calibration RMSE: 3.1829, train MAE: 1.5649, calibration MAE: 2.9885\n",
      "--------------Start Parameter Set: 20 jaccard 1 ----------------\n",
      "----Now processing fold: 1----\n",
      "Fold 1 cost time 74.5182, train RMSE: 2.0229, calibration RMSE: 3.1653, train MAE: 1.6884, calibration MAE: 2.9738\n",
      "----Now processing fold: 2----\n",
      "Fold 2 cost time 81.0741, train RMSE: 2.0248, calibration RMSE: 3.1539, train MAE: 1.6903, calibration MAE: 2.9612\n",
      "----Now processing fold: 3----\n",
      "Fold 3 cost time 80.2880, train RMSE: 2.0138, calibration RMSE: 3.1624, train MAE: 1.6808, calibration MAE: 2.9655\n",
      "--------------Start Parameter Set: 25 jaccard 1 ----------------\n",
      "----Now processing fold: 1----\n",
      "Fold 1 cost time 66.9054, train RMSE: 2.1091, calibration RMSE: 3.1537, train MAE: 1.7718, calibration MAE: 2.9608\n",
      "----Now processing fold: 2----\n",
      "Fold 2 cost time 67.5319, train RMSE: 2.1121, calibration RMSE: 3.1433, train MAE: 1.7746, calibration MAE: 2.9490\n",
      "----Now processing fold: 3----\n",
      "Fold 3 cost time 79.4225, train RMSE: 2.0997, calibration RMSE: 3.1511, train MAE: 1.7634, calibration MAE: 2.9529\n",
      "--------------Start Parameter Set: 30 jaccard 1 ----------------\n",
      "----Now processing fold: 1----\n",
      "Fold 1 cost time 93.7090, train RMSE: 2.1733, calibration RMSE: 3.1463, train MAE: 1.8338, calibration MAE: 2.9527\n",
      "----Now processing fold: 2----\n",
      "Fold 2 cost time 73.0515, train RMSE: 2.1766, calibration RMSE: 3.1368, train MAE: 1.8373, calibration MAE: 2.9417\n",
      "----Now processing fold: 3----\n",
      "Fold 3 cost time 96.8457, train RMSE: 2.1646, calibration RMSE: 3.1446, train MAE: 1.8257, calibration MAE: 2.9455\n",
      "--------------Start Parameter Set: 35 jaccard 1 ----------------\n",
      "----Now processing fold: 1----\n",
      "Fold 1 cost time 116.0463, train RMSE: 2.2250, calibration RMSE: 3.1422, train MAE: 1.8838, calibration MAE: 2.9481\n",
      "----Now processing fold: 2----\n",
      "Fold 2 cost time 66.6458, train RMSE: 2.2276, calibration RMSE: 3.1327, train MAE: 1.8871, calibration MAE: 2.9371\n",
      "----Now processing fold: 3----\n",
      "Fold 3 cost time 59.0739, train RMSE: 2.2164, calibration RMSE: 3.1406, train MAE: 1.8758, calibration MAE: 2.9412\n",
      "--------------Start Parameter Set: 40 jaccard 1 ----------------\n",
      "----Now processing fold: 1----\n",
      "Fold 1 cost time 55.9891, train RMSE: 2.2670, calibration RMSE: 3.1393, train MAE: 1.9243, calibration MAE: 2.9449\n",
      "----Now processing fold: 2----\n",
      "Fold 2 cost time 58.6271, train RMSE: 2.2692, calibration RMSE: 3.1299, train MAE: 1.9279, calibration MAE: 2.9336\n",
      "----Now processing fold: 3----\n",
      "Fold 3 cost time 57.9240, train RMSE: 2.2579, calibration RMSE: 3.1380, train MAE: 1.9164, calibration MAE: 2.9383\n",
      "--------------Start Parameter Set: 45 jaccard 1 ----------------\n",
      "----Now processing fold: 1----\n",
      "Fold 1 cost time 58.7003, train RMSE: 2.3028, calibration RMSE: 3.1385, train MAE: 1.9594, calibration MAE: 2.9442\n",
      "----Now processing fold: 2----\n",
      "Fold 2 cost time 53.9027, train RMSE: 2.3044, calibration RMSE: 3.1285, train MAE: 1.9630, calibration MAE: 2.9321\n",
      "----Now processing fold: 3----\n",
      "Fold 3 cost time 58.6138, train RMSE: 2.2932, calibration RMSE: 3.1364, train MAE: 1.9504, calibration MAE: 2.9366\n",
      "--------------Start Parameter Set: 50 jaccard 1 ----------------\n",
      "----Now processing fold: 1----\n",
      "Fold 1 cost time 62.1696, train RMSE: 2.3330, calibration RMSE: 3.1383, train MAE: 1.9894, calibration MAE: 2.9440\n",
      "----Now processing fold: 2----\n",
      "Fold 2 cost time 58.1976, train RMSE: 2.3346, calibration RMSE: 3.1279, train MAE: 1.9932, calibration MAE: 2.9314\n",
      "----Now processing fold: 3----\n"
     ]
    },
    {
     "name": "stdout",
     "output_type": "stream",
     "text": [
      "Fold 3 cost time 78.7094, train RMSE: 2.3236, calibration RMSE: 3.1360, train MAE: 1.9803, calibration MAE: 2.9363\n",
      "--------------Start Parameter Set: 5 correlation 1 ----------------\n",
      "----Now processing fold: 1----\n",
      "Fold 1 cost time 61.5947, train RMSE: 1.6067, calibration RMSE: 3.4025, train MAE: 1.3455, calibration MAE: 3.2299\n",
      "----Now processing fold: 2----\n",
      "Fold 2 cost time 50.7292, train RMSE: 1.6088, calibration RMSE: 3.3856, train MAE: 1.3443, calibration MAE: 3.2128\n",
      "----Now processing fold: 3----\n",
      "Fold 3 cost time 51.1339, train RMSE: 1.6001, calibration RMSE: 3.3906, train MAE: 1.3338, calibration MAE: 3.2149\n",
      "--------------Start Parameter Set: 10 correlation 1 ----------------\n",
      "----Now processing fold: 1----\n",
      "Fold 1 cost time 49.1507, train RMSE: 2.0187, calibration RMSE: 3.3532, train MAE: 1.7546, calibration MAE: 3.1806\n",
      "----Now processing fold: 2----\n",
      "Fold 2 cost time 78.2737, train RMSE: 2.0198, calibration RMSE: 3.3354, train MAE: 1.7514, calibration MAE: 3.1618\n",
      "----Now processing fold: 3----\n",
      "Fold 3 cost time 54.0627, train RMSE: 2.0072, calibration RMSE: 3.3423, train MAE: 1.7387, calibration MAE: 3.1659\n",
      "--------------Start Parameter Set: 15 correlation 1 ----------------\n",
      "----Now processing fold: 1----\n",
      "Fold 1 cost time 49.2921, train RMSE: 2.2081, calibration RMSE: 3.3406, train MAE: 1.9410, calibration MAE: 3.1687\n",
      "----Now processing fold: 2----\n",
      "Fold 2 cost time 51.2453, train RMSE: 2.2098, calibration RMSE: 3.3235, train MAE: 1.9405, calibration MAE: 3.1502\n",
      "----Now processing fold: 3----\n",
      "Fold 3 cost time 50.7862, train RMSE: 2.1950, calibration RMSE: 3.3294, train MAE: 1.9253, calibration MAE: 3.1535\n",
      "--------------Start Parameter Set: 20 correlation 1 ----------------\n",
      "----Now processing fold: 1----\n",
      "Fold 1 cost time 53.5408, train RMSE: 2.3207, calibration RMSE: 3.3349, train MAE: 2.0512, calibration MAE: 3.1640\n",
      "----Now processing fold: 2----\n",
      "Fold 2 cost time 50.4301, train RMSE: 2.3239, calibration RMSE: 3.3198, train MAE: 2.0539, calibration MAE: 3.1470\n",
      "----Now processing fold: 3----\n",
      "Fold 3 cost time 63.4564, train RMSE: 2.3123, calibration RMSE: 3.3282, train MAE: 2.0416, calibration MAE: 3.1534\n",
      "--------------Start Parameter Set: 25 correlation 1 ----------------\n",
      "----Now processing fold: 1----\n",
      "Fold 1 cost time 63.3813, train RMSE: 2.4003, calibration RMSE: 3.3333, train MAE: 2.1286, calibration MAE: 3.1629\n",
      "----Now processing fold: 2----\n",
      "Fold 2 cost time 66.0185, train RMSE: 2.4026, calibration RMSE: 3.3195, train MAE: 2.1311, calibration MAE: 3.1473\n",
      "----Now processing fold: 3----\n",
      "Fold 3 cost time 55.4946, train RMSE: 2.3904, calibration RMSE: 3.3273, train MAE: 2.1192, calibration MAE: 3.1536\n",
      "--------------Start Parameter Set: 30 correlation 1 ----------------\n",
      "----Now processing fold: 1----\n",
      "Fold 1 cost time 45.4655, train RMSE: 2.4601, calibration RMSE: 3.3351, train MAE: 2.1873, calibration MAE: 3.1653\n",
      "----Now processing fold: 2----\n",
      "Fold 2 cost time 47.4988, train RMSE: 2.4614, calibration RMSE: 3.3198, train MAE: 2.1887, calibration MAE: 3.1479\n",
      "----Now processing fold: 3----\n",
      "Fold 3 cost time 60.3751, train RMSE: 2.4493, calibration RMSE: 3.3282, train MAE: 2.1765, calibration MAE: 3.1551\n",
      "--------------Start Parameter Set: 35 correlation 1 ----------------\n",
      "----Now processing fold: 1----\n",
      "Fold 1 cost time 52.0023, train RMSE: 2.5074, calibration RMSE: 3.3375, train MAE: 2.2335, calibration MAE: 3.1683\n",
      "----Now processing fold: 2----\n",
      "Fold 2 cost time 49.9125, train RMSE: 2.5091, calibration RMSE: 3.3224, train MAE: 2.2357, calibration MAE: 3.1512\n",
      "----Now processing fold: 3----\n",
      "Fold 3 cost time 50.2198, train RMSE: 2.4964, calibration RMSE: 3.3309, train MAE: 2.2227, calibration MAE: 3.1584\n",
      "--------------Start Parameter Set: 40 correlation 1 ----------------\n",
      "----Now processing fold: 1----\n",
      "Fold 1 cost time 49.0322, train RMSE: 2.5448, calibration RMSE: 3.3388, train MAE: 2.2701, calibration MAE: 3.1702\n",
      "----Now processing fold: 2----\n",
      "Fold 2 cost time 61.6705, train RMSE: 2.5473, calibration RMSE: 3.3243, train MAE: 2.2733, calibration MAE: 3.1536\n",
      "----Now processing fold: 3----\n",
      "Fold 3 cost time 44.3028, train RMSE: 2.5334, calibration RMSE: 3.3318, train MAE: 2.2592, calibration MAE: 3.1597\n",
      "--------------Start Parameter Set: 45 correlation 1 ----------------\n",
      "----Now processing fold: 1----\n",
      "Fold 1 cost time 49.2090, train RMSE: 2.5773, calibration RMSE: 3.3413, train MAE: 2.3018, calibration MAE: 3.1732\n",
      "----Now processing fold: 2----\n",
      "Fold 2 cost time 61.8910, train RMSE: 2.5795, calibration RMSE: 3.3266, train MAE: 2.3046, calibration MAE: 3.1563\n",
      "----Now processing fold: 3----\n",
      "Fold 3 cost time 65.3630, train RMSE: 2.5649, calibration RMSE: 3.3337, train MAE: 2.2897, calibration MAE: 3.1619\n",
      "--------------Start Parameter Set: 50 correlation 1 ----------------\n",
      "----Now processing fold: 1----\n",
      "Fold 1 cost time 61.6319, train RMSE: 2.6040, calibration RMSE: 3.3428, train MAE: 2.3274, calibration MAE: 3.1750\n",
      "----Now processing fold: 2----\n",
      "Fold 2 cost time 67.0185, train RMSE: 2.6076, calibration RMSE: 3.3295, train MAE: 2.3319, calibration MAE: 3.1596\n",
      "----Now processing fold: 3----\n",
      "Fold 3 cost time 56.6731, train RMSE: 2.5929, calibration RMSE: 3.3363, train MAE: 2.3170, calibration MAE: 3.1650\n",
      "best parameter set is {'Item_flag': 0, 'Metric': 'cosine', 'Nneighbor': 30}, with RMSE is 3.0438\n",
      "best parameter set is {'Item_flag': 0, 'Metric': 'cosine', 'Nneighbor': 30}, with MAE is 2.8480\n",
      "finsied in 5248.535687923431 seconds\n"
     ]
    }
   ],
   "source": [
    "## Grid Search\n",
    "Item_flag =[0,1]\n",
    "Metric = ['cosine','jaccard','correlation']\n",
    "Nneighbor = np.arange(5,55,5)\n",
    "param_grid = {'Item_flag':Item_flag, 'Metric': Metric,'Nneighbor':Nneighbor}\n",
    "param_grid = list(ParameterGrid(param_grid))\n",
    "\n",
    "scores_f = []\n",
    "best_scores_rmse= float('inf')\n",
    "best_scores_mae = float('inf')\n",
    "\n",
    "start = time.time()\n",
    "for j, param_set in enumerate(param_grid):\n",
    "    print('--------------Start Parameter Set:',param_set.get('Nneighbor'),\n",
    "          param_set.get('Metric'),param_set.get('Item_flag'),'----------------')\n",
    "    knn = NearestNeighbors(metric=param_set.get('Metric'), algorithm='brute', \n",
    "                                 n_neighbors=param_set.get('Nneighbor'), n_jobs=-1)\n",
    "    knn_cv = CV(knn,nneigh=param_set.get('Nneighbor'),nfolds=3,data=ratings_shuffle,\n",
    "                verbose=0,item_flag=param_set.get('Item_flag'))\n",
    "    scores_f.append(knn_cv)\n",
    "    if best_scores_rmse > knn_cv[0]:\n",
    "        best_scores_rmse = knn_cv[0]\n",
    "        best_param_rmse = param_set\n",
    "        \n",
    "    if best_scores_mae > knn_cv[1]:\n",
    "        best_scores_mae = knn_cv[1]\n",
    "        best_param_mae = param_set\n",
    "print(\"best parameter set is %s, with RMSE is %.4f\" % (best_param_rmse, best_scores_rmse))\n",
    "print(\"best parameter set is %s, with MAE is %.4f\" % (best_param_mae, best_scores_mae))\n",
    "print(\"finsied in %s seconds\" %(time.time()-start))"
   ]
  },
  {
   "cell_type": "code",
   "execution_count": 268,
   "metadata": {},
   "outputs": [
    {
     "name": "stdout",
     "output_type": "stream",
     "text": [
      "best parameter set is {'Item_flag': 0, 'Metric': 'cosine', 'Nneighbor': 30}, with RMSE is 3.0438\n",
      "best parameter set is {'Item_flag': 0, 'Metric': 'cosine', 'Nneighbor': 30}, with MAE is 2.8480\n"
     ]
    }
   ],
   "source": [
    "print(\"best parameter set is %s, with RMSE is %.4f\" % (best_param_rmse, best_scores_rmse))\n",
    "print(\"best parameter set is %s, with MAE is %.4f\" % (best_param_mae, best_scores_mae))"
   ]
  },
  {
   "cell_type": "code",
   "execution_count": 238,
   "metadata": {},
   "outputs": [],
   "source": [
    "best parameter set is {'Item_flag': 0, 'Metric': 'cosine', 'Nneighbor': 30}, with RMSE is 3.0438\n",
    "rmse_test=[]\n",
    "mae_test=[]\n",
    "rmse_train=[]\n",
    "mae_train=[]\n",
    "\n",
    "for i in range(len(scores_f)):\n",
    "    rmse_test.append(scores_f[i][0])\n",
    "    mae_test.append(scores_f[i][1])\n",
    "    rmse_train.append(scores_f[i][2])\n",
    "    mae_train.append(scores_f[i][3])"
   ]
  },
  {
   "cell_type": "code",
   "execution_count": 296,
   "metadata": {
    "scrolled": true
   },
   "outputs": [
    {
     "data": {
      "image/png": "[encoded data removed]",
      "text/plain": [
       "<Figure size 1080x720 with 4 Axes>"
      ]
     },
     "metadata": {
      "needs_background": "light"
     },
     "output_type": "display_data"
    }
   ],
   "source": [
    "plt.figure(figsize=(15,10))\n",
    "plt.subplot(221)\n",
    "plt.plot(Nneighbor,rmse_train[0:len(Nneighbor)],label='train rmse(cosine)',color='coral', linestyle='-')\n",
    "plt.plot(Nneighbor,rmse_train[len(Nneighbor):2*len(Nneighbor)],label='train rmse(jaccard)',color='green', linestyle='-')\n",
    "plt.plot(Nneighbor,rmse_train[2*len(Nneighbor):3*len(Nneighbor)],label='train rmse(correlation)',color='blue', linestyle='-')\n",
    "plt.plot(Nneighbor,rmse_test[0:len(Nneighbor)],label='test rmse(cosine)',color='coral', linestyle='--')\n",
    "plt.plot(Nneighbor,rmse_test[len(Nneighbor):2*len(Nneighbor)],label='test rmse(jaccard)',color='green', linestyle='--')\n",
    "plt.plot(Nneighbor,rmse_test[2*len(Nneighbor):3*len(Nneighbor)],label='test rmse(correlation)',color='blue', linestyle='--')\n",
    "plt.title('User-Based CF (RMSE)')\n",
    "plt.xlabel('Number of Neighbors')\n",
    "plt.ylabel('RMSE Scores')\n",
    "plt.legend()\n",
    "\n",
    "plt.subplot(222)\n",
    "plt.plot(Nneighbor,rmse_train[3*len(Nneighbor):4*len(Nneighbor)],label='train rmse(cosine)',color='coral', linestyle='-')\n",
    "plt.plot(Nneighbor,rmse_train[4*len(Nneighbor):5*len(Nneighbor)],label='train rmse(jaccard)',color='green', linestyle='-')\n",
    "plt.plot(Nneighbor,rmse_train[5*len(Nneighbor):6*len(Nneighbor)],label='train rmse(correlation)',color='blue', linestyle='-')\n",
    "plt.plot(Nneighbor,rmse_test[3*len(Nneighbor):4*len(Nneighbor)],label='test rmse(cosine)',color='coral', linestyle='--')\n",
    "plt.plot(Nneighbor,rmse_test[4*len(Nneighbor):5*len(Nneighbor)],label='test rmse(jaccard)',color='green', linestyle='--')\n",
    "plt.plot(Nneighbor,rmse_test[5*len(Nneighbor):6*len(Nneighbor)],label='test rmse(correlation)',color='blue', linestyle='--')\n",
    "plt.title('Item-Based CF (RMSE)')\n",
    "plt.xlabel('Number of Neighbors')\n",
    "plt.ylabel('RMSE Scores')\n",
    "plt.legend()\n",
    "\n",
    "plt.subplot(223)\n",
    "plt.plot(Nneighbor,mae_train[0:len(Nneighbor)],label='train rmse(cosine)',color='coral', linestyle='-')\n",
    "plt.plot(Nneighbor,mae_train[len(Nneighbor):2*len(Nneighbor)],label='train rmse(jaccard)',color='green', linestyle='-')\n",
    "plt.plot(Nneighbor,mae_train[2*len(Nneighbor):3*len(Nneighbor)],label='train rmse(correlation)',color='blue', linestyle='-')\n",
    "plt.plot(Nneighbor,mae_test[0:len(Nneighbor)],label='test rmse(cosine)',color='coral', linestyle='--')\n",
    "plt.plot(Nneighbor,mae_test[len(Nneighbor):2*len(Nneighbor)],label='test rmse(jaccard)',color='green', linestyle='--')\n",
    "plt.plot(Nneighbor,mae_test[2*len(Nneighbor):3*len(Nneighbor)],label='test rmse(correlation)',color='blue', linestyle='--')\n",
    "plt.title('User-Based CF (MAE)')\n",
    "plt.xlabel('Number of Neighbors')\n",
    "plt.ylabel('MAE Scores')\n",
    "plt.legend()\n",
    "\n",
    "plt.subplot(224)\n",
    "plt.plot(Nneighbor,mae_train[3*len(Nneighbor):4*len(Nneighbor)],label='train rmse(cosine)',color='coral', linestyle='-')\n",
    "plt.plot(Nneighbor,mae_train[4*len(Nneighbor):5*len(Nneighbor)],label='train rmse(jaccard)',color='green', linestyle='-')\n",
    "plt.plot(Nneighbor,mae_train[5*len(Nneighbor):6*len(Nneighbor)],label='train rmse(correlation)',color='blue', linestyle='-')\n",
    "plt.plot(Nneighbor,mae_test[3*len(Nneighbor):4*len(Nneighbor)],label='test rmse(cosine)',color='coral', linestyle='--')\n",
    "plt.plot(Nneighbor,mae_test[4*len(Nneighbor):5*len(Nneighbor)],label='test rmse(jaccard)',color='green', linestyle='--')\n",
    "plt.plot(Nneighbor,mae_test[5*len(Nneighbor):6*len(Nneighbor)],label='test rmse(correlation)',color='blue', linestyle='--')\n",
    "plt.title('Item-Based CF (MAE)')\n",
    "plt.xlabel('Number of Neighbors')\n",
    "plt.ylabel('MAE Scores')\n",
    "plt.legend()\n",
    "\n",
    "plt.show()"
   ]
  },
  {
   "cell_type": "markdown",
   "metadata": {},
   "source": [
    "## User-based CF"
   ]
  },
  {
   "cell_type": "code",
   "execution_count": 287,
   "metadata": {},
   "outputs": [
    {
     "name": "stdout",
     "output_type": "stream",
     "text": [
      "--------------Start Parameter Set: 25 cosine 0 ----------------\n",
      "--------------Start Parameter Set: 26 cosine 0 ----------------\n",
      "--------------Start Parameter Set: 27 cosine 0 ----------------\n",
      "--------------Start Parameter Set: 28 cosine 0 ----------------\n",
      "--------------Start Parameter Set: 29 cosine 0 ----------------\n",
      "--------------Start Parameter Set: 30 cosine 0 ----------------\n",
      "--------------Start Parameter Set: 31 cosine 0 ----------------\n",
      "--------------Start Parameter Set: 32 cosine 0 ----------------\n",
      "--------------Start Parameter Set: 33 cosine 0 ----------------\n",
      "--------------Start Parameter Set: 34 cosine 0 ----------------\n",
      "best parameter set is {'Item_flag': 0, 'Metric': 'cosine', 'Nneighbor': 32}, with RMSE is 3.0437\n",
      "best parameter set is {'Item_flag': 0, 'Metric': 'cosine', 'Nneighbor': 28}, with MAE is 2.8478\n",
      "finsied in 80.5614869594574 seconds\n"
     ]
    }
   ],
   "source": [
    "## Grid Search: user-based\n",
    "Item_flag =[0]#,1]\n",
    "Metric = ['cosine']#,'jaccard','correlation']\n",
    "Nneighbor = np.arange(25,35,1)\n",
    "param_grid = {'Item_flag':Item_flag, 'Metric': Metric,'Nneighbor':Nneighbor}\n",
    "param_grid = list(ParameterGrid(param_grid))\n",
    "\n",
    "scores_f = []\n",
    "best_scores_rmse= float('inf')\n",
    "best_scores_mae = float('inf')\n",
    "\n",
    "start = time.time()\n",
    "for j, param_set in enumerate(param_grid):\n",
    "    print('--------------Start Parameter Set:',param_set.get('Nneighbor'),\n",
    "          param_set.get('Metric'),param_set.get('Item_flag'),'----------------')\n",
    "    knn = NearestNeighbors(metric=param_set.get('Metric'), algorithm='brute', \n",
    "                                 n_neighbors=param_set.get('Nneighbor'), n_jobs=-1)\n",
    "    knn_cv = CV(knn,nneigh=param_set.get('Nneighbor'),nfolds=3,data=ratings_shuffle,\n",
    "                verbose=1,item_flag=param_set.get('Item_flag'))\n",
    "    scores_f.append(knn_cv)\n",
    "    if best_scores_rmse > knn_cv[0]:\n",
    "        best_scores_rmse = knn_cv[0]\n",
    "        best_param_rmse = param_set\n",
    "        \n",
    "    if best_scores_mae > knn_cv[1]:\n",
    "        best_scores_mae = knn_cv[1]\n",
    "        best_param_mae = param_set\n",
    "print(\"best parameter set is %s, with RMSE is %.4f\" % (best_param_rmse, best_scores_rmse))\n",
    "print(\"best parameter set is %s, with MAE is %.4f\" % (best_param_mae, best_scores_mae))\n",
    "print(\"finsied in %s seconds\" %(time.time()-start))"
   ]
  },
  {
   "cell_type": "code",
   "execution_count": 289,
   "metadata": {},
   "outputs": [],
   "source": [
    "rmse_test_2=[]\n",
    "mae_test_2=[]\n",
    "rmse_train_2=[]\n",
    "mae_train_2=[]\n",
    "\n",
    "for i in range(len(scores_f)):\n",
    "    rmse_test_2.append(scores_f[i][0])\n",
    "    mae_test_2.append(scores_f[i][1])\n",
    "    rmse_train_2.append(scores_f[i][2])\n",
    "    mae_train_2.append(scores_f[i][3])"
   ]
  },
  {
   "cell_type": "code",
   "execution_count": 297,
   "metadata": {},
   "outputs": [
    {
     "data": {
      "image/png": "[encoded data removed]",
      "text/plain": [
       "<Figure size 1296x432 with 2 Axes>"
      ]
     },
     "metadata": {
      "needs_background": "light"
     },
     "output_type": "display_data"
    }
   ],
   "source": [
    "plt.figure(figsize=(18,6))\n",
    "plt.subplot(121)\n",
    "plt.plot(Nneighbor,rmse_train_2,label='train rmse')#,color='coral', linestyle='-')\n",
    "plt.plot(Nneighbor,rmse_test_2,label='test rmse')#,color='coral', linestyle='--')\n",
    "plt.title('User-Based CF (cosine,RMSE)')\n",
    "plt.xlabel('Number of Neighbors')\n",
    "plt.ylabel('RMSE Scores')\n",
    "plt.legend()\n",
    "\n",
    "plt.subplot(122)\n",
    "plt.plot(Nneighbor,mae_train_2,label='train mae')#,color='coral', linestyle='-')\n",
    "plt.plot(Nneighbor,mae_test_2,label='test mae')#,color='coral', linestyle='--')\n",
    "plt.title('User-Based CF (cosine,MAE)')\n",
    "plt.xlabel('Number of Neighbors')\n",
    "plt.ylabel('MAE Scores')\n",
    "plt.legend()\n",
    "\n",
    "plt.show()"
   ]
  },
  {
   "cell_type": "code",
   "execution_count": 311,
   "metadata": {},
   "outputs": [
    {
     "name": "stdout",
     "output_type": "stream",
     "text": [
      "----Now processing fold: 1----\n",
      "Fold 1 cost time 7.5670, train RMSE: 2.4287, calibration RMSE: 2.9010, train MAE: 2.2013, calibration MAE: 2.6795\n",
      "----Now processing fold: 2----\n",
      "Fold 2 cost time 3.6956, train RMSE: 2.4296, calibration RMSE: 2.8986, train MAE: 2.2023, calibration MAE: 2.6715\n",
      "----Now processing fold: 3----\n",
      "Fold 3 cost time 2.8920, train RMSE: 2.4299, calibration RMSE: 2.8953, train MAE: 2.2021, calibration MAE: 2.6713\n",
      "----Now processing fold: 4----\n",
      "Fold 4 cost time 2.7498, train RMSE: 2.4277, calibration RMSE: 2.8906, train MAE: 2.2007, calibration MAE: 2.6653\n",
      "----Now processing fold: 5----\n",
      "Fold 5 cost time 2.9403, train RMSE: 2.4250, calibration RMSE: 2.8991, train MAE: 2.1993, calibration MAE: 2.6735\n",
      "training time: 20.17225480079651\n"
     ]
    }
   ],
   "source": [
    "start = time.time()\n",
    "model_knn_user = NearestNeighbors(metric='cosine', algorithm='brute', n_neighbors=32, n_jobs=-1)\n",
    "knn_cv_user = CV(model_knn_user,nneigh=32,nfolds=5,data=ratings_shuffle,verbose=0,item_flag=0)\n",
    "print(\"training time:\",time.time()-start)"
   ]
  },
  {
   "cell_type": "code",
   "execution_count": 312,
   "metadata": {},
   "outputs": [
    {
     "name": "stdout",
     "output_type": "stream",
     "text": [
      "average RMSE: 2.8969, average MAE: 2.6722\n"
     ]
    }
   ],
   "source": [
    "print(\"average RMSE: {:.4f}, average MAE: {:.4f}\".format(knn_cv_user[0],knn_cv_user[1]))"
   ]
  },
  {
   "cell_type": "markdown",
   "metadata": {},
   "source": [
    "## Item-Based CF"
   ]
  },
  {
   "cell_type": "code",
   "execution_count": 291,
   "metadata": {},
   "outputs": [
    {
     "name": "stdout",
     "output_type": "stream",
     "text": [
      "--------------Start Parameter Set: 20 jaccard 1 ----------------\n",
      "--------------Start Parameter Set: 21 jaccard 1 ----------------\n",
      "--------------Start Parameter Set: 22 jaccard 1 ----------------\n",
      "--------------Start Parameter Set: 23 jaccard 1 ----------------\n",
      "--------------Start Parameter Set: 24 jaccard 1 ----------------\n",
      "--------------Start Parameter Set: 25 jaccard 1 ----------------\n",
      "--------------Start Parameter Set: 26 jaccard 1 ----------------\n",
      "--------------Start Parameter Set: 27 jaccard 1 ----------------\n",
      "--------------Start Parameter Set: 28 jaccard 1 ----------------\n",
      "--------------Start Parameter Set: 29 jaccard 1 ----------------\n",
      "best parameter set is {'Item_flag': 1, 'Metric': 'jaccard', 'Nneighbor': 29}, with RMSE is 3.1438\n",
      "best parameter set is {'Item_flag': 1, 'Metric': 'jaccard', 'Nneighbor': 29}, with MAE is 2.9480\n",
      "finsied in 1914.4996519088745 seconds\n"
     ]
    }
   ],
   "source": [
    "## Grid Search: item-based\n",
    "Item_flag =[1]\n",
    "Metric = ['jaccard']#,'correlation']\n",
    "Nneighbor = np.arange(20,30,1)\n",
    "param_grid = {'Item_flag':Item_flag, 'Metric': Metric,'Nneighbor':Nneighbor}\n",
    "param_grid = list(ParameterGrid(param_grid))\n",
    "\n",
    "scores_f = []\n",
    "best_scores_rmse= float('inf')\n",
    "best_scores_mae = float('inf')\n",
    "\n",
    "start = time.time()\n",
    "for j, param_set in enumerate(param_grid):\n",
    "    print('--------------Start Parameter Set:',param_set.get('Nneighbor'),\n",
    "          param_set.get('Metric'),param_set.get('Item_flag'),'----------------')\n",
    "    knn = NearestNeighbors(metric=param_set.get('Metric'), algorithm='brute', \n",
    "                                 n_neighbors=param_set.get('Nneighbor'), n_jobs=-1)\n",
    "    knn_cv = CV(knn,nneigh=param_set.get('Nneighbor'),nfolds=3,data=ratings_shuffle,\n",
    "                verbose=1,item_flag=param_set.get('Item_flag'))\n",
    "    scores_f.append(knn_cv)\n",
    "    if best_scores_rmse > knn_cv[0]:\n",
    "        best_scores_rmse = knn_cv[0]\n",
    "        best_param_rmse = param_set\n",
    "        \n",
    "    if best_scores_mae > knn_cv[1]:\n",
    "        best_scores_mae = knn_cv[1]\n",
    "        best_param_mae = param_set\n",
    "print(\"best parameter set is %s, with RMSE is %.4f\" % (best_param_rmse, best_scores_rmse))\n",
    "print(\"best parameter set is %s, with MAE is %.4f\" % (best_param_mae, best_scores_mae))\n",
    "print(\"finsied in %s seconds\" %(time.time()-start))"
   ]
  },
  {
   "cell_type": "code",
   "execution_count": 292,
   "metadata": {},
   "outputs": [],
   "source": [
    "rmse_test_3=[]\n",
    "mae_test_3=[]\n",
    "rmse_train_3=[]\n",
    "mae_train_3=[]\n",
    "\n",
    "for i in range(len(scores_f)):\n",
    "    rmse_test_3.append(scores_f[i][0])\n",
    "    mae_test_3.append(scores_f[i][1])\n",
    "    rmse_train_3.append(scores_f[i][2])\n",
    "    mae_train_3.append(scores_f[i][3])"
   ]
  },
  {
   "cell_type": "code",
   "execution_count": 298,
   "metadata": {},
   "outputs": [
    {
     "data": {
      "image/png": "[encoded data removed]",
      "text/plain": [
       "<Figure size 1296x432 with 2 Axes>"
      ]
     },
     "metadata": {
      "needs_background": "light"
     },
     "output_type": "display_data"
    }
   ],
   "source": [
    "plt.figure(figsize=(18,6))\n",
    "plt.subplot(121)\n",
    "plt.plot(Nneighbor,rmse_train_3,label='train rmse')#,color='coral', linestyle='-')\n",
    "plt.plot(Nneighbor,rmse_test_3,label='test rmse')#,color='coral', linestyle='--')\n",
    "plt.title('Item-Based CF (cosine,RMSE)')\n",
    "plt.xlabel('Number of Neighbors')\n",
    "plt.ylabel('RMSE Scores')\n",
    "plt.legend()\n",
    "\n",
    "plt.subplot(122)\n",
    "plt.plot(Nneighbor,mae_train_3,label='train mae')#,color='coral', linestyle='-')\n",
    "plt.plot(Nneighbor,mae_test_3,label='test mae')#,color='coral', linestyle='--')\n",
    "plt.title('Item-Based CF (cosine,MAE)')\n",
    "plt.xlabel('Number of Neighbors')\n",
    "plt.ylabel('MAE Scores')\n",
    "plt.legend()\n",
    "\n",
    "plt.show()"
   ]
  },
  {
   "cell_type": "code",
   "execution_count": 301,
   "metadata": {},
   "outputs": [],
   "source": [
    "kf=KFold(n_splits=3)\n",
    "for j, (train_index, test_index) in enumerate(kf.split(ratings_shuffle)):\n",
    "    train, test = ratings_shuffle.iloc[train_index], ratings_shuffle.iloc[test_index]\n",
    "    "
   ]
  },
  {
   "cell_type": "code",
   "execution_count": 303,
   "metadata": {},
   "outputs": [],
   "source": [
    "train,M_train = data_process(train,1)"
   ]
  },
  {
   "cell_type": "code",
   "execution_count": 304,
   "metadata": {
    "scrolled": true
   },
   "outputs": [
    {
     "data": {
      "text/plain": [
       "(8440, 610)"
      ]
     },
     "execution_count": 304,
     "metadata": {},
     "output_type": "execute_result"
    }
   ],
   "source": [
    "train.shape"
   ]
  },
  {
   "cell_type": "code",
   "execution_count": 307,
   "metadata": {},
   "outputs": [
    {
     "name": "stdout",
     "output_type": "stream",
     "text": [
      "----Now processing fold: 1----\n",
      "Fold 1 cost time 130.3088, train RMSE: 2.0818, calibration RMSE: 2.9868, train MAE: 1.7198, calibration MAE: 2.7597\n",
      "----Now processing fold: 2----\n",
      "Fold 2 cost time 132.6782, train RMSE: 2.0800, calibration RMSE: 2.9893, train MAE: 1.7151, calibration MAE: 2.7579\n",
      "----Now processing fold: 3----\n",
      "Fold 3 cost time 140.5696, train RMSE: 2.0838, calibration RMSE: 2.9832, train MAE: 1.7219, calibration MAE: 2.7554\n",
      "----Now processing fold: 4----\n",
      "Fold 4 cost time 132.5378, train RMSE: 2.0839, calibration RMSE: 2.9852, train MAE: 1.7227, calibration MAE: 2.7542\n",
      "----Now processing fold: 5----\n",
      "Fold 5 cost time 155.6945, train RMSE: 2.0785, calibration RMSE: 2.9984, train MAE: 1.7179, calibration MAE: 2.7652\n",
      "training time: 692.0831761360168\n"
     ]
    }
   ],
   "source": [
    "start = time.time()\n",
    "model_knn_user = NearestNeighbors(metric='jaccard', algorithm='brute', n_neighbors=29, n_jobs=-1)\n",
    "knn_cv_item = CV(model_knn_user,nneigh=29,nfolds=5,data=ratings_shuffle,verbose=0,item_flag=1)\n",
    "print(\"training time:\",time.time()-start)"
   ]
  },
  {
   "cell_type": "code",
   "execution_count": 309,
   "metadata": {},
   "outputs": [
    {
     "name": "stdout",
     "output_type": "stream",
     "text": [
      "average RMSE: 2.9886, average MAE: 2.7585\n"
     ]
    }
   ],
   "source": [
    "print(\"average RMSE: {:.4f}, average MAE: {:.4f}\".format(knn_cv_item[0],knn_cv_item[1]))"
   ]
  },
  {
   "cell_type": "code",
   "execution_count": null,
   "metadata": {},
   "outputs": [],
   "source": []
  }
 ],
 "metadata": {
  "kernelspec": {
   "display_name": "Python 3",
   "language": "python",
   "name": "python3"
  },
  "language_info": {
   "codemirror_mode": {
    "name": "ipython",
    "version": 3
   },
   "file_extension": ".py",
   "mimetype": "text/x-python",
   "name": "python",
   "nbconvert_exporter": "python",
   "pygments_lexer": "ipython3",
   "version": "3.7.4"
  }
 },
 "nbformat": 4,
 "nbformat_minor": 2
}
