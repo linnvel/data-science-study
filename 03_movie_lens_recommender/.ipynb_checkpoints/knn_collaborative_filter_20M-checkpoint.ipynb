{
 "cells": [
  {
   "cell_type": "markdown",
   "metadata": {},
   "source": [
    "# Collaborative Filter"
   ]
  },
  {
   "cell_type": "markdown",
   "metadata": {},
   "source": [
    "The data used in this code is MovieLens 20M Dataset updated 10/2016. You can download data [here](http://files.grouplens.org/datasets/movielens/ml-20m.zip)."
   ]
  },
  {
   "cell_type": "code",
   "execution_count": 34,
   "metadata": {},
   "outputs": [
    {
     "data": {
      "text/html": [
       "<div>\n",
       "<style scoped>\n",
       "    .dataframe tbody tr th:only-of-type {\n",
       "        vertical-align: middle;\n",
       "    }\n",
       "\n",
       "    .dataframe tbody tr th {\n",
       "        vertical-align: top;\n",
       "    }\n",
       "\n",
       "    .dataframe thead th {\n",
       "        text-align: right;\n",
       "    }\n",
       "</style>\n",
       "<table border=\"1\" class=\"dataframe\">\n",
       "  <thead>\n",
       "    <tr style=\"text-align: right;\">\n",
       "      <th></th>\n",
       "      <th>movieId</th>\n",
       "      <th>title</th>\n",
       "      <th>genres</th>\n",
       "      <th>userId</th>\n",
       "      <th>rating</th>\n",
       "    </tr>\n",
       "  </thead>\n",
       "  <tbody>\n",
       "    <tr>\n",
       "      <th>0</th>\n",
       "      <td>1</td>\n",
       "      <td>Toy Story (1995)</td>\n",
       "      <td>Adventure|Animation|Children|Comedy|Fantasy</td>\n",
       "      <td>3</td>\n",
       "      <td>4.0</td>\n",
       "    </tr>\n",
       "    <tr>\n",
       "      <th>1</th>\n",
       "      <td>1</td>\n",
       "      <td>Toy Story (1995)</td>\n",
       "      <td>Adventure|Animation|Children|Comedy|Fantasy</td>\n",
       "      <td>6</td>\n",
       "      <td>5.0</td>\n",
       "    </tr>\n",
       "    <tr>\n",
       "      <th>2</th>\n",
       "      <td>1</td>\n",
       "      <td>Toy Story (1995)</td>\n",
       "      <td>Adventure|Animation|Children|Comedy|Fantasy</td>\n",
       "      <td>8</td>\n",
       "      <td>4.0</td>\n",
       "    </tr>\n",
       "    <tr>\n",
       "      <th>3</th>\n",
       "      <td>1</td>\n",
       "      <td>Toy Story (1995)</td>\n",
       "      <td>Adventure|Animation|Children|Comedy|Fantasy</td>\n",
       "      <td>10</td>\n",
       "      <td>4.0</td>\n",
       "    </tr>\n",
       "    <tr>\n",
       "      <th>4</th>\n",
       "      <td>1</td>\n",
       "      <td>Toy Story (1995)</td>\n",
       "      <td>Adventure|Animation|Children|Comedy|Fantasy</td>\n",
       "      <td>11</td>\n",
       "      <td>4.5</td>\n",
       "    </tr>\n",
       "    <tr>\n",
       "      <th>5</th>\n",
       "      <td>1</td>\n",
       "      <td>Toy Story (1995)</td>\n",
       "      <td>Adventure|Animation|Children|Comedy|Fantasy</td>\n",
       "      <td>12</td>\n",
       "      <td>4.0</td>\n",
       "    </tr>\n",
       "    <tr>\n",
       "      <th>6</th>\n",
       "      <td>1</td>\n",
       "      <td>Toy Story (1995)</td>\n",
       "      <td>Adventure|Animation|Children|Comedy|Fantasy</td>\n",
       "      <td>13</td>\n",
       "      <td>4.0</td>\n",
       "    </tr>\n",
       "    <tr>\n",
       "      <th>7</th>\n",
       "      <td>1</td>\n",
       "      <td>Toy Story (1995)</td>\n",
       "      <td>Adventure|Animation|Children|Comedy|Fantasy</td>\n",
       "      <td>14</td>\n",
       "      <td>4.5</td>\n",
       "    </tr>\n",
       "    <tr>\n",
       "      <th>8</th>\n",
       "      <td>1</td>\n",
       "      <td>Toy Story (1995)</td>\n",
       "      <td>Adventure|Animation|Children|Comedy|Fantasy</td>\n",
       "      <td>16</td>\n",
       "      <td>3.0</td>\n",
       "    </tr>\n",
       "    <tr>\n",
       "      <th>9</th>\n",
       "      <td>1</td>\n",
       "      <td>Toy Story (1995)</td>\n",
       "      <td>Adventure|Animation|Children|Comedy|Fantasy</td>\n",
       "      <td>19</td>\n",
       "      <td>5.0</td>\n",
       "    </tr>\n",
       "  </tbody>\n",
       "</table>\n",
       "</div>"
      ],
      "text/plain": [
       "   movieId             title                                       genres  \\\n",
       "0        1  Toy Story (1995)  Adventure|Animation|Children|Comedy|Fantasy   \n",
       "1        1  Toy Story (1995)  Adventure|Animation|Children|Comedy|Fantasy   \n",
       "2        1  Toy Story (1995)  Adventure|Animation|Children|Comedy|Fantasy   \n",
       "3        1  Toy Story (1995)  Adventure|Animation|Children|Comedy|Fantasy   \n",
       "4        1  Toy Story (1995)  Adventure|Animation|Children|Comedy|Fantasy   \n",
       "5        1  Toy Story (1995)  Adventure|Animation|Children|Comedy|Fantasy   \n",
       "6        1  Toy Story (1995)  Adventure|Animation|Children|Comedy|Fantasy   \n",
       "7        1  Toy Story (1995)  Adventure|Animation|Children|Comedy|Fantasy   \n",
       "8        1  Toy Story (1995)  Adventure|Animation|Children|Comedy|Fantasy   \n",
       "9        1  Toy Story (1995)  Adventure|Animation|Children|Comedy|Fantasy   \n",
       "\n",
       "   userId  rating  \n",
       "0       3     4.0  \n",
       "1       6     5.0  \n",
       "2       8     4.0  \n",
       "3      10     4.0  \n",
       "4      11     4.5  \n",
       "5      12     4.0  \n",
       "6      13     4.0  \n",
       "7      14     4.5  \n",
       "8      16     3.0  \n",
       "9      19     5.0  "
      ]
     },
     "execution_count": 34,
     "metadata": {},
     "output_type": "execute_result"
    }
   ],
   "source": [
    "import pandas as pd\n",
    "import numpy as np\n",
    "from scipy.sparse import csr_matrix\n",
    "from sklearn.neighbors import NearestNeighbors\n",
    "from sklearn.model_selection import KFold\n",
    "import time\n",
    "from sklearn.model_selection import ParameterGrid\n",
    "import matplotlib.pyplot as plt\n",
    "\n",
    "\n",
    "import warnings\n",
    "#from sklearn.exceptions import DataConversionWarning \n",
    "#warnings.filterwarnings(action='ignore', category=DataConversionWarning)\n",
    "\n",
    "\n",
    "#Change path to run\n",
    "ratings = pd.read_csv('MovieLens/ml-20m/ratings.csv',sep=',',usecols=range(3))\n",
    "movies = pd.read_csv('MovieLens/ml-20m/movies.csv',sep=',')\n",
    "ratings = pd.merge(movies, ratings)\n",
    "ratings=ratings[0:1000000]\n",
    "ratings.head(10)"
   ]
  },
  {
   "cell_type": "code",
   "execution_count": 4,
   "metadata": {},
   "outputs": [],
   "source": [
    "ratings_shuffle = ratings.sample(frac=1)"
   ]
  },
  {
   "cell_type": "code",
   "execution_count": 5,
   "metadata": {},
   "outputs": [
    {
     "data": {
      "text/html": [
       "<div>\n",
       "<style scoped>\n",
       "    .dataframe tbody tr th:only-of-type {\n",
       "        vertical-align: middle;\n",
       "    }\n",
       "\n",
       "    .dataframe tbody tr th {\n",
       "        vertical-align: top;\n",
       "    }\n",
       "\n",
       "    .dataframe thead th {\n",
       "        text-align: right;\n",
       "    }\n",
       "</style>\n",
       "<table border=\"1\" class=\"dataframe\">\n",
       "  <thead>\n",
       "    <tr style=\"text-align: right;\">\n",
       "      <th></th>\n",
       "      <th>userId</th>\n",
       "      <th>movieId</th>\n",
       "      <th>rating</th>\n",
       "    </tr>\n",
       "  </thead>\n",
       "  <tbody>\n",
       "    <tr>\n",
       "      <th>694429</th>\n",
       "      <td>4600</td>\n",
       "      <td>4533</td>\n",
       "      <td>3.5</td>\n",
       "    </tr>\n",
       "    <tr>\n",
       "      <th>833084</th>\n",
       "      <td>5544</td>\n",
       "      <td>1206</td>\n",
       "      <td>5.0</td>\n",
       "    </tr>\n",
       "    <tr>\n",
       "      <th>743795</th>\n",
       "      <td>4967</td>\n",
       "      <td>1233</td>\n",
       "      <td>3.5</td>\n",
       "    </tr>\n",
       "    <tr>\n",
       "      <th>213787</th>\n",
       "      <td>1470</td>\n",
       "      <td>2750</td>\n",
       "      <td>3.0</td>\n",
       "    </tr>\n",
       "    <tr>\n",
       "      <th>265889</th>\n",
       "      <td>1838</td>\n",
       "      <td>1882</td>\n",
       "      <td>3.5</td>\n",
       "    </tr>\n",
       "    <tr>\n",
       "      <th>895713</th>\n",
       "      <td>6002</td>\n",
       "      <td>6383</td>\n",
       "      <td>4.0</td>\n",
       "    </tr>\n",
       "    <tr>\n",
       "      <th>782508</th>\n",
       "      <td>5209</td>\n",
       "      <td>3702</td>\n",
       "      <td>4.0</td>\n",
       "    </tr>\n",
       "    <tr>\n",
       "      <th>819519</th>\n",
       "      <td>5466</td>\n",
       "      <td>2797</td>\n",
       "      <td>3.5</td>\n",
       "    </tr>\n",
       "    <tr>\n",
       "      <th>242343</th>\n",
       "      <td>1677</td>\n",
       "      <td>2858</td>\n",
       "      <td>3.0</td>\n",
       "    </tr>\n",
       "    <tr>\n",
       "      <th>297213</th>\n",
       "      <td>2035</td>\n",
       "      <td>45517</td>\n",
       "      <td>3.0</td>\n",
       "    </tr>\n",
       "  </tbody>\n",
       "</table>\n",
       "</div>"
      ],
      "text/plain": [
       "        userId  movieId  rating\n",
       "694429    4600     4533     3.5\n",
       "833084    5544     1206     5.0\n",
       "743795    4967     1233     3.5\n",
       "213787    1470     2750     3.0\n",
       "265889    1838     1882     3.5\n",
       "895713    6002     6383     4.0\n",
       "782508    5209     3702     4.0\n",
       "819519    5466     2797     3.5\n",
       "242343    1677     2858     3.0\n",
       "297213    2035    45517     3.0"
      ]
     },
     "execution_count": 5,
     "metadata": {},
     "output_type": "execute_result"
    }
   ],
   "source": [
    "ratings_shuffle.head(10)"
   ]
  },
  {
   "cell_type": "code",
   "execution_count": 6,
   "metadata": {
    "scrolled": true
   },
   "outputs": [
    {
     "data": {
      "text/html": [
       "<div>\n",
       "<style scoped>\n",
       "    .dataframe tbody tr th:only-of-type {\n",
       "        vertical-align: middle;\n",
       "    }\n",
       "\n",
       "    .dataframe tbody tr th {\n",
       "        vertical-align: top;\n",
       "    }\n",
       "\n",
       "    .dataframe thead th {\n",
       "        text-align: right;\n",
       "    }\n",
       "</style>\n",
       "<table border=\"1\" class=\"dataframe\">\n",
       "  <thead>\n",
       "    <tr style=\"text-align: right;\">\n",
       "      <th>userId</th>\n",
       "      <th>1</th>\n",
       "      <th>2</th>\n",
       "      <th>3</th>\n",
       "      <th>4</th>\n",
       "      <th>5</th>\n",
       "      <th>6</th>\n",
       "      <th>7</th>\n",
       "      <th>8</th>\n",
       "      <th>9</th>\n",
       "      <th>10</th>\n",
       "      <th>...</th>\n",
       "      <th>6734</th>\n",
       "      <th>6735</th>\n",
       "      <th>6736</th>\n",
       "      <th>6737</th>\n",
       "      <th>6738</th>\n",
       "      <th>6739</th>\n",
       "      <th>6740</th>\n",
       "      <th>6741</th>\n",
       "      <th>6742</th>\n",
       "      <th>6743</th>\n",
       "    </tr>\n",
       "    <tr>\n",
       "      <th>movieId</th>\n",
       "      <th></th>\n",
       "      <th></th>\n",
       "      <th></th>\n",
       "      <th></th>\n",
       "      <th></th>\n",
       "      <th></th>\n",
       "      <th></th>\n",
       "      <th></th>\n",
       "      <th></th>\n",
       "      <th></th>\n",
       "      <th></th>\n",
       "      <th></th>\n",
       "      <th></th>\n",
       "      <th></th>\n",
       "      <th></th>\n",
       "      <th></th>\n",
       "      <th></th>\n",
       "      <th></th>\n",
       "      <th></th>\n",
       "      <th></th>\n",
       "      <th></th>\n",
       "    </tr>\n",
       "  </thead>\n",
       "  <tbody>\n",
       "    <tr>\n",
       "      <th>1</th>\n",
       "      <td>0.0</td>\n",
       "      <td>0.0</td>\n",
       "      <td>4.0</td>\n",
       "      <td>0.0</td>\n",
       "      <td>0.0</td>\n",
       "      <td>5.0</td>\n",
       "      <td>0.0</td>\n",
       "      <td>4.0</td>\n",
       "      <td>0.0</td>\n",
       "      <td>4.0</td>\n",
       "      <td>...</td>\n",
       "      <td>0.5</td>\n",
       "      <td>4.0</td>\n",
       "      <td>4.0</td>\n",
       "      <td>3.0</td>\n",
       "      <td>0.0</td>\n",
       "      <td>4.0</td>\n",
       "      <td>0.0</td>\n",
       "      <td>4.0</td>\n",
       "      <td>0.0</td>\n",
       "      <td>4.0</td>\n",
       "    </tr>\n",
       "    <tr>\n",
       "      <th>2</th>\n",
       "      <td>3.5</td>\n",
       "      <td>0.0</td>\n",
       "      <td>0.0</td>\n",
       "      <td>0.0</td>\n",
       "      <td>3.0</td>\n",
       "      <td>0.0</td>\n",
       "      <td>0.0</td>\n",
       "      <td>0.0</td>\n",
       "      <td>0.0</td>\n",
       "      <td>0.0</td>\n",
       "      <td>...</td>\n",
       "      <td>0.0</td>\n",
       "      <td>0.0</td>\n",
       "      <td>0.0</td>\n",
       "      <td>0.0</td>\n",
       "      <td>0.0</td>\n",
       "      <td>0.0</td>\n",
       "      <td>0.0</td>\n",
       "      <td>0.0</td>\n",
       "      <td>0.0</td>\n",
       "      <td>3.0</td>\n",
       "    </tr>\n",
       "    <tr>\n",
       "      <th>3</th>\n",
       "      <td>0.0</td>\n",
       "      <td>4.0</td>\n",
       "      <td>0.0</td>\n",
       "      <td>0.0</td>\n",
       "      <td>0.0</td>\n",
       "      <td>3.0</td>\n",
       "      <td>3.0</td>\n",
       "      <td>5.0</td>\n",
       "      <td>0.0</td>\n",
       "      <td>0.0</td>\n",
       "      <td>...</td>\n",
       "      <td>0.0</td>\n",
       "      <td>5.0</td>\n",
       "      <td>0.0</td>\n",
       "      <td>0.0</td>\n",
       "      <td>0.0</td>\n",
       "      <td>4.0</td>\n",
       "      <td>0.0</td>\n",
       "      <td>0.0</td>\n",
       "      <td>0.0</td>\n",
       "      <td>3.0</td>\n",
       "    </tr>\n",
       "    <tr>\n",
       "      <th>4</th>\n",
       "      <td>0.0</td>\n",
       "      <td>0.0</td>\n",
       "      <td>0.0</td>\n",
       "      <td>0.0</td>\n",
       "      <td>0.0</td>\n",
       "      <td>0.0</td>\n",
       "      <td>0.0</td>\n",
       "      <td>0.0</td>\n",
       "      <td>0.0</td>\n",
       "      <td>0.0</td>\n",
       "      <td>...</td>\n",
       "      <td>0.0</td>\n",
       "      <td>0.0</td>\n",
       "      <td>0.0</td>\n",
       "      <td>0.0</td>\n",
       "      <td>0.0</td>\n",
       "      <td>1.0</td>\n",
       "      <td>0.0</td>\n",
       "      <td>0.0</td>\n",
       "      <td>0.0</td>\n",
       "      <td>0.0</td>\n",
       "    </tr>\n",
       "    <tr>\n",
       "      <th>5</th>\n",
       "      <td>0.0</td>\n",
       "      <td>0.0</td>\n",
       "      <td>0.0</td>\n",
       "      <td>0.0</td>\n",
       "      <td>0.0</td>\n",
       "      <td>0.0</td>\n",
       "      <td>0.0</td>\n",
       "      <td>0.0</td>\n",
       "      <td>0.0</td>\n",
       "      <td>0.0</td>\n",
       "      <td>...</td>\n",
       "      <td>0.0</td>\n",
       "      <td>4.0</td>\n",
       "      <td>3.0</td>\n",
       "      <td>0.0</td>\n",
       "      <td>0.0</td>\n",
       "      <td>0.0</td>\n",
       "      <td>0.0</td>\n",
       "      <td>0.0</td>\n",
       "      <td>0.0</td>\n",
       "      <td>0.0</td>\n",
       "    </tr>\n",
       "  </tbody>\n",
       "</table>\n",
       "<p>5 rows × 6743 columns</p>\n",
       "</div>"
      ],
      "text/plain": [
       "userId   1     2     3     4     5     6     7     8     9     10    ...   \\\n",
       "movieId                                                              ...    \n",
       "1         0.0   0.0   4.0   0.0   0.0   5.0   0.0   4.0   0.0   4.0  ...    \n",
       "2         3.5   0.0   0.0   0.0   3.0   0.0   0.0   0.0   0.0   0.0  ...    \n",
       "3         0.0   4.0   0.0   0.0   0.0   3.0   3.0   5.0   0.0   0.0  ...    \n",
       "4         0.0   0.0   0.0   0.0   0.0   0.0   0.0   0.0   0.0   0.0  ...    \n",
       "5         0.0   0.0   0.0   0.0   0.0   0.0   0.0   0.0   0.0   0.0  ...    \n",
       "\n",
       "userId   6734  6735  6736  6737  6738  6739  6740  6741  6742  6743  \n",
       "movieId                                                              \n",
       "1         0.5   4.0   4.0   3.0   0.0   4.0   0.0   4.0   0.0   4.0  \n",
       "2         0.0   0.0   0.0   0.0   0.0   0.0   0.0   0.0   0.0   3.0  \n",
       "3         0.0   5.0   0.0   0.0   0.0   4.0   0.0   0.0   0.0   3.0  \n",
       "4         0.0   0.0   0.0   0.0   0.0   1.0   0.0   0.0   0.0   0.0  \n",
       "5         0.0   4.0   3.0   0.0   0.0   0.0   0.0   0.0   0.0   0.0  \n",
       "\n",
       "[5 rows x 6743 columns]"
      ]
     },
     "execution_count": 6,
     "metadata": {},
     "output_type": "execute_result"
    }
   ],
   "source": [
    "# Create utility matrix\n",
    "df_movie_features = ratings.pivot(index='movieId',columns='userId',values='rating').fillna(0)\n",
    "M=df_movie_features.shape[0]\n",
    "U=df_movie_features.shape[1]\n",
    "df_movie_features.head()"
   ]
  },
  {
   "cell_type": "code",
   "execution_count": 7,
   "metadata": {},
   "outputs": [
    {
     "data": {
      "text/plain": [
       "(13950, 6743)"
      ]
     },
     "execution_count": 7,
     "metadata": {},
     "output_type": "execute_result"
    }
   ],
   "source": [
    "df_movie_features.shape"
   ]
  },
  {
   "cell_type": "code",
   "execution_count": 4,
   "metadata": {},
   "outputs": [],
   "source": [
    "mat_movie_features = csr_matrix(df_movie_features.values)"
   ]
  },
  {
   "cell_type": "code",
   "execution_count": 8,
   "metadata": {},
   "outputs": [
    {
     "data": {
      "text/plain": [
       "NearestNeighbors(algorithm='brute', leaf_size=30, metric='cosine',\n",
       "         metric_params=None, n_jobs=-1, n_neighbors=10, p=2, radius=1.0)"
      ]
     },
     "execution_count": 8,
     "metadata": {},
     "output_type": "execute_result"
    }
   ],
   "source": [
    "model_knn = NearestNeighbors(metric='cosine', algorithm='brute', n_neighbors=10, n_jobs=-1)\n",
    "model_knn.fit(df_movie_features.values)"
   ]
  },
  {
   "cell_type": "code",
   "execution_count": 9,
   "metadata": {},
   "outputs": [],
   "source": [
    "distance,indice=model_knn.kneighbors(df_movie_features.values,n_neighbors=10)"
   ]
  },
  {
   "cell_type": "code",
   "execution_count": 10,
   "metadata": {},
   "outputs": [
    {
     "name": "stdout",
     "output_type": "stream",
     "text": [
      "(13950, 13950)\n"
     ]
    }
   ],
   "source": [
    "S = np.zeros((M,M))\n",
    "for i in range(0,M):\n",
    "    S[i,indice[i,]]=distance[i,]\n",
    "    S[i,i]=1\n",
    "#print(S[0,:].sum())\n",
    "print(S.shape)"
   ]
  },
  {
   "cell_type": "code",
   "execution_count": 11,
   "metadata": {
    "scrolled": true
   },
   "outputs": [],
   "source": [
    "tmp=abs(S).sum(axis=1)\n",
    "df_pred=np.dot(S,df_movie_features)/tmp[:,None]"
   ]
  },
  {
   "cell_type": "code",
   "execution_count": 9,
   "metadata": {},
   "outputs": [
    {
     "data": {
      "text/plain": [
       "1.6844142906795845"
      ]
     },
     "execution_count": 9,
     "metadata": {},
     "output_type": "execute_result"
    }
   ],
   "source": [
    "rmse_knn=np.sqrt(np.nanmean(np.square(df_movie_features[df_movie_features!=0]-df_pred)))\n",
    "rmse_knn"
   ]
  },
  {
   "cell_type": "code",
   "execution_count": 10,
   "metadata": {},
   "outputs": [
    {
     "data": {
      "text/plain": [
       "1.2960139608381611"
      ]
     },
     "execution_count": 10,
     "metadata": {},
     "output_type": "execute_result"
    }
   ],
   "source": [
    "mae=np.nanmean(df_movie_features[df_movie_features!=0].abs()-np.abs(df_pred))\n",
    "mae"
   ]
  },
  {
   "cell_type": "markdown",
   "metadata": {},
   "source": [
    "# Cross Validation"
   ]
  },
  {
   "cell_type": "markdown",
   "metadata": {},
   "source": [
    "## Item-Based CF"
   ]
  },
  {
   "cell_type": "code",
   "execution_count": 12,
   "metadata": {},
   "outputs": [],
   "source": [
    "def data_process(data,item_flag):\n",
    "    if item_flag: # item-based CF\n",
    "        df_processed = data.pivot(index='movieId',columns='userId',values='rating').fillna(0)\n",
    "    else:\n",
    "        df_processed = data.pivot(index='userId',columns='movieId',values='rating').fillna(0)\n",
    "    return df_processed,df_processed.shape[0]\n",
    "def data_extend(data,target_data):\n",
    "    df_extended=pd.DataFrame(np.zeros((target_data.shape[0],target_data.shape[1])),index=target_data.index.unique(),\n",
    "                   columns=target_data.columns.unique())\n",
    "    df_extended.loc[data.index,data.columns]=data\n",
    "    return df_extended   "
   ]
  },
  {
   "cell_type": "code",
   "execution_count": 13,
   "metadata": {},
   "outputs": [],
   "source": [
    "# cross validation\n",
    "def CV(model,nneigh,nfolds,data,verbose,item_flag):\n",
    "    kf=KFold(n_splits=nfolds)\n",
    "    rmse_train=[]\n",
    "    mae_train=[]\n",
    "    rmse_test=[]\n",
    "    mae_test=[]\n",
    "    for j, (train_index, test_index) in enumerate(kf.split(data)):\n",
    "        if not verbose:\n",
    "            print(\"----Now processing fold: %d----\" % (j+1))\n",
    "        start = time.time()\n",
    "        train, test = data.iloc[train_index], data.iloc[test_index]\n",
    "        df_movie_features,M=data_process(data,item_flag)\n",
    "        train,M_train = data_process(train,item_flag)\n",
    "        test,M_test = data_process(test,item_flag)\n",
    "        \n",
    "        train_extend=data_extend(train,df_movie_features)\n",
    "        test_extend=data_extend(test,df_movie_features)\n",
    "        model.fit(train.values)\n",
    "        \n",
    "        #train model\n",
    "        distance,indice=model.kneighbors(train.values,n_neighbors=nneigh)\n",
    "        S = pd.DataFrame(np.eye(M),index=df_movie_features.index.unique(),columns=df_movie_features.index.unique())\n",
    "        for i in range(0,M_train):\n",
    "            S.loc[train.index[i],train.index[indice[i,]]]=1-distance[i,]\n",
    "\n",
    "        #predict \n",
    "        tmp=abs(S).sum(axis=1)\n",
    "        pred=np.dot(S,train_extend)/tmp[:,None]\n",
    "        #print(np.sqrt(np.nanmean(np.square(train_extend[train_extend!=0]-pred_train))))\n",
    "        #print(np.nanmean(train_extend[train_extend!=0].abs()-np.abs(pred_train)))      \n",
    "        \n",
    "        #evaluate\n",
    "        #train\n",
    "        rmse_train.append(np.sqrt(np.nanmean(np.square(train_extend[train_extend!=0]-pred))))\n",
    "        mae_train.append(np.nanmean(train_extend[train_extend!=0].abs()-np.abs(pred))) \n",
    "        \n",
    "        #test\n",
    "\n",
    "        tmp=abs(S).sum(axis=1)\n",
    "       # pred_test=np.dot(S,test_extend)/tmp[:,None]\n",
    "        rmse_test.append(np.sqrt(np.nanmean(np.square(test_extend[test_extend!=0]-pred))))\n",
    "        mae_test.append(np.nanmean(test_extend[test_extend!=0].abs()-np.abs(pred)))      \n",
    "        #print(np.sqrt(np.nanmean(np.square(test_extend[test_extend!=0]-pred_test))))\n",
    "        #print(np.nanmean(test_extend[test_extend!=0].abs()-np.abs(pred_test)))      \n",
    "        \n",
    "        if not verbose:\n",
    "            #print(\"----This fold: %d is finished in %.4f----\" %( i+1, (time.time()-start)))\n",
    "            print(\"Fold %d cost time %.4f, train RMSE: %.4f, calibration RMSE: %.4f, train MAE: %.4f, calibration MAE: %.4f\" % \\\n",
    "                  (j+1, time.time()-start, rmse_train[j], rmse_test[j], mae_train[j], mae_test[j]))\n",
    "    return (np.mean(rmse_test, axis = 0),np.mean(mae_test, axis = 0),np.mean(rmse_train, axis = 0),np.mean(mae_train, axis = 0))"
   ]
  },
  {
   "cell_type": "code",
   "execution_count": 15,
   "metadata": {},
   "outputs": [
    {
     "name": "stdout",
     "output_type": "stream",
     "text": [
      "----Now processing fold: 1----\n",
      "Fold 1 cost time 252.6724, train RMSE: 1.9104, calibration RMSE: 2.9761, train MAE: 1.6863, calibration MAE: 2.7550\n",
      "----Now processing fold: 2----\n",
      "Fold 2 cost time 234.7821, train RMSE: 1.9114, calibration RMSE: 2.9785, train MAE: 1.6892, calibration MAE: 2.7577\n",
      "----Now processing fold: 3----\n",
      "Fold 3 cost time 239.2081, train RMSE: 1.9104, calibration RMSE: 2.9779, train MAE: 1.6869, calibration MAE: 2.7565\n"
     ]
    }
   ],
   "source": [
    "model_knn = NearestNeighbors(metric='cosine', algorithm='brute', n_neighbors=10, n_jobs=-1)\n",
    "knn_cv_item = CV(model_knn,nneigh=10,nfolds=3,data=ratings_shuffle,verbose=0,item_flag=1)"
   ]
  },
  {
   "cell_type": "code",
   "execution_count": 16,
   "metadata": {
    "scrolled": true
   },
   "outputs": [
    {
     "name": "stdout",
     "output_type": "stream",
     "text": [
      "average RMSE: 2.9775, average MAE: 2.7564\n"
     ]
    }
   ],
   "source": [
    "print(\"average RMSE: {:.4f}, average MAE: {:.4f}\".format(knn_cv_item[0],knn_cv_item[1]))"
   ]
  },
  {
   "cell_type": "markdown",
   "metadata": {},
   "source": [
    "## User-Based CF"
   ]
  },
  {
   "cell_type": "code",
   "execution_count": 17,
   "metadata": {},
   "outputs": [
    {
     "name": "stdout",
     "output_type": "stream",
     "text": [
      "----Now processing fold: 1----\n",
      "Fold 1 cost time 148.9041, train RMSE: 1.9275, calibration RMSE: 3.0415, train MAE: 1.6987, calibration MAE: 2.8227\n",
      "----Now processing fold: 2----\n",
      "Fold 2 cost time 140.5502, train RMSE: 1.9319, calibration RMSE: 3.0470, train MAE: 1.7022, calibration MAE: 2.8279\n",
      "----Now processing fold: 3----\n",
      "Fold 3 cost time 155.0459, train RMSE: 1.9257, calibration RMSE: 3.0403, train MAE: 1.6948, calibration MAE: 2.8195\n"
     ]
    }
   ],
   "source": [
    "knn_cv_user = CV(model_knn,nneigh=10,nfolds=3,data=ratings_shuffle,verbose=0,item_flag=0)"
   ]
  },
  {
   "cell_type": "code",
   "execution_count": 18,
   "metadata": {},
   "outputs": [
    {
     "name": "stdout",
     "output_type": "stream",
     "text": [
      "average RMSE: 3.0429, average MAE: 2.8234\n"
     ]
    }
   ],
   "source": [
    "print(\"average RMSE: {:.4f}, average MAE: {:.4f}\".format(knn_cv_user[0],knn_cv_user[1]))"
   ]
  },
  {
   "cell_type": "markdown",
   "metadata": {},
   "source": [
    "# Grid Search"
   ]
  },
  {
   "cell_type": "markdown",
   "metadata": {},
   "source": [
    "## User-Based"
   ]
  },
  {
   "cell_type": "code",
   "execution_count": 20,
   "metadata": {},
   "outputs": [
    {
     "name": "stdout",
     "output_type": "stream",
     "text": [
      "--------------Start Parameter Set: 5 cosine 0 ----------------\n",
      "----Now processing fold: 1----\n",
      "Fold 1 cost time 153.3337, train RMSE: 1.4898, calibration RMSE: 3.1794, train MAE: 1.2694, calibration MAE: 2.9713\n",
      "----Now processing fold: 2----\n",
      "Fold 2 cost time 148.9096, train RMSE: 1.4922, calibration RMSE: 3.1838, train MAE: 1.2713, calibration MAE: 2.9758\n",
      "----Now processing fold: 3----\n",
      "Fold 3 cost time 142.0510, train RMSE: 1.4879, calibration RMSE: 3.1806, train MAE: 1.2667, calibration MAE: 2.9716\n",
      "--------------Start Parameter Set: 10 cosine 0 ----------------\n",
      "----Now processing fold: 1----\n",
      "Fold 1 cost time 136.9577, train RMSE: 1.9275, calibration RMSE: 3.0415, train MAE: 1.6987, calibration MAE: 2.8227\n",
      "----Now processing fold: 2----\n",
      "Fold 2 cost time 142.8349, train RMSE: 1.9319, calibration RMSE: 3.0470, train MAE: 1.7022, calibration MAE: 2.8279\n",
      "----Now processing fold: 3----\n",
      "Fold 3 cost time 143.7733, train RMSE: 1.9257, calibration RMSE: 3.0403, train MAE: 1.6948, calibration MAE: 2.8195\n",
      "--------------Start Parameter Set: 15 cosine 0 ----------------\n",
      "----Now processing fold: 1----\n",
      "Fold 1 cost time 150.9165, train RMSE: 2.1256, calibration RMSE: 2.9875, train MAE: 1.8930, calibration MAE: 2.7651\n",
      "----Now processing fold: 2----\n",
      "Fold 2 cost time 141.5928, train RMSE: 2.1289, calibration RMSE: 2.9926, train MAE: 1.8957, calibration MAE: 2.7702\n",
      "----Now processing fold: 3----\n",
      "Fold 3 cost time 175.8850, train RMSE: 2.1239, calibration RMSE: 2.9864, train MAE: 1.8896, calibration MAE: 2.7622\n",
      "--------------Start Parameter Set: 20 cosine 0 ----------------\n",
      "----Now processing fold: 1----\n",
      "Fold 1 cost time 163.3901, train RMSE: 2.2414, calibration RMSE: 2.9590, train MAE: 2.0068, calibration MAE: 2.7353\n",
      "----Now processing fold: 2----\n",
      "Fold 2 cost time 165.8598, train RMSE: 2.2451, calibration RMSE: 2.9647, train MAE: 2.0105, calibration MAE: 2.7414\n",
      "----Now processing fold: 3----\n",
      "Fold 3 cost time 164.7136, train RMSE: 2.2402, calibration RMSE: 2.9588, train MAE: 2.0048, calibration MAE: 2.7338\n",
      "--------------Start Parameter Set: 25 cosine 0 ----------------\n",
      "----Now processing fold: 1----\n",
      "Fold 1 cost time 184.2092, train RMSE: 2.3199, calibration RMSE: 2.9435, train MAE: 2.0845, calibration MAE: 2.7195\n",
      "----Now processing fold: 2----\n",
      "Fold 2 cost time 170.1768, train RMSE: 2.3239, calibration RMSE: 2.9491, train MAE: 2.0889, calibration MAE: 2.7256\n",
      "----Now processing fold: 3----\n",
      "Fold 3 cost time 170.6247, train RMSE: 2.3189, calibration RMSE: 2.9439, train MAE: 2.0831, calibration MAE: 2.7188\n",
      "--------------Start Parameter Set: 30 cosine 0 ----------------\n",
      "----Now processing fold: 1----\n",
      "Fold 1 cost time 172.8574, train RMSE: 2.3778, calibration RMSE: 2.9345, train MAE: 2.1424, calibration MAE: 2.7108\n",
      "----Now processing fold: 2----\n",
      "Fold 2 cost time 169.3043, train RMSE: 2.3814, calibration RMSE: 2.9399, train MAE: 2.1464, calibration MAE: 2.7166\n",
      "----Now processing fold: 3----\n",
      "Fold 3 cost time 179.3416, train RMSE: 2.3768, calibration RMSE: 2.9352, train MAE: 2.1409, calibration MAE: 2.7103\n",
      "--------------Start Parameter Set: 35 cosine 0 ----------------\n",
      "----Now processing fold: 1----\n",
      "Fold 1 cost time 165.9814, train RMSE: 2.4226, calibration RMSE: 2.9294, train MAE: 2.1875, calibration MAE: 2.7062\n",
      "----Now processing fold: 2----\n",
      "Fold 2 cost time 173.9796, train RMSE: 2.4259, calibration RMSE: 2.9342, train MAE: 2.1910, calibration MAE: 2.7113\n",
      "----Now processing fold: 3----\n",
      "Fold 3 cost time 177.4609, train RMSE: 2.4215, calibration RMSE: 2.9298, train MAE: 2.1859, calibration MAE: 2.7053\n",
      "--------------Start Parameter Set: 40 cosine 0 ----------------\n",
      "----Now processing fold: 1----\n",
      "Fold 1 cost time 163.6579, train RMSE: 2.4582, calibration RMSE: 2.9258, train MAE: 2.2234, calibration MAE: 2.7030\n",
      "----Now processing fold: 2----\n",
      "Fold 2 cost time 162.2361, train RMSE: 2.4617, calibration RMSE: 2.9307, train MAE: 2.2272, calibration MAE: 2.7083\n",
      "----Now processing fold: 3----\n",
      "Fold 3 cost time 168.1093, train RMSE: 2.4572, calibration RMSE: 2.9263, train MAE: 2.2221, calibration MAE: 2.7024\n",
      "--------------Start Parameter Set: 45 cosine 0 ----------------\n",
      "----Now processing fold: 1----\n",
      "Fold 1 cost time 173.1463, train RMSE: 2.4875, calibration RMSE: 2.9234, train MAE: 2.2532, calibration MAE: 2.7011\n",
      "----Now processing fold: 2----\n",
      "Fold 2 cost time 181.3899, train RMSE: 2.4913, calibration RMSE: 2.9289, train MAE: 2.2573, calibration MAE: 2.7070\n",
      "----Now processing fold: 3----\n",
      "Fold 3 cost time 174.0995, train RMSE: 2.4872, calibration RMSE: 2.9245, train MAE: 2.2525, calibration MAE: 2.7012\n",
      "--------------Start Parameter Set: 50 cosine 0 ----------------\n",
      "----Now processing fold: 1----\n",
      "Fold 1 cost time 167.3502, train RMSE: 2.5125, calibration RMSE: 2.9223, train MAE: 2.2786, calibration MAE: 2.7005\n",
      "----Now processing fold: 2----\n",
      "Fold 2 cost time 182.2115, train RMSE: 2.5165, calibration RMSE: 2.9280, train MAE: 2.2829, calibration MAE: 2.7066\n",
      "----Now processing fold: 3----\n",
      "Fold 3 cost time 170.7608, train RMSE: 2.5123, calibration RMSE: 2.9237, train MAE: 2.2782, calibration MAE: 2.7010\n",
      "--------------Start Parameter Set: 5 jaccard 0 ----------------\n",
      "----Now processing fold: 1----\n"
     ]
    },
    {
     "name": "stderr",
     "output_type": "stream",
     "text": [
      "/Users/monica/anaconda3/lib/python3.6/site-packages/sklearn/utils/validation.py:595: DataConversionWarning: Data with input dtype float64 was converted to bool by check_pairwise_arrays.\n",
      "  warnings.warn(msg, DataConversionWarning)\n",
      "/Users/monica/anaconda3/lib/python3.6/site-packages/sklearn/utils/validation.py:595: DataConversionWarning: Data with input dtype float64 was converted to bool by check_pairwise_arrays.\n",
      "  warnings.warn(msg, DataConversionWarning)\n"
     ]
    },
    {
     "name": "stdout",
     "output_type": "stream",
     "text": [
      "Fold 1 cost time 571.2442, train RMSE: 1.1318, calibration RMSE: 3.3039, train MAE: 0.9552, calibration MAE: 3.1162\n",
      "----Now processing fold: 2----\n"
     ]
    },
    {
     "name": "stderr",
     "output_type": "stream",
     "text": [
      "/Users/monica/anaconda3/lib/python3.6/site-packages/sklearn/utils/validation.py:595: DataConversionWarning: Data with input dtype float64 was converted to bool by check_pairwise_arrays.\n",
      "  warnings.warn(msg, DataConversionWarning)\n",
      "/Users/monica/anaconda3/lib/python3.6/site-packages/sklearn/utils/validation.py:595: DataConversionWarning: Data with input dtype float64 was converted to bool by check_pairwise_arrays.\n",
      "  warnings.warn(msg, DataConversionWarning)\n"
     ]
    },
    {
     "name": "stdout",
     "output_type": "stream",
     "text": [
      "Fold 2 cost time 576.9026, train RMSE: 1.1332, calibration RMSE: 3.3063, train MAE: 0.9558, calibration MAE: 3.1180\n",
      "----Now processing fold: 3----\n"
     ]
    },
    {
     "name": "stderr",
     "output_type": "stream",
     "text": [
      "/Users/monica/anaconda3/lib/python3.6/site-packages/sklearn/utils/validation.py:595: DataConversionWarning: Data with input dtype float64 was converted to bool by check_pairwise_arrays.\n",
      "  warnings.warn(msg, DataConversionWarning)\n",
      "/Users/monica/anaconda3/lib/python3.6/site-packages/sklearn/utils/validation.py:595: DataConversionWarning: Data with input dtype float64 was converted to bool by check_pairwise_arrays.\n",
      "  warnings.warn(msg, DataConversionWarning)\n"
     ]
    },
    {
     "name": "stdout",
     "output_type": "stream",
     "text": [
      "Fold 3 cost time 573.0186, train RMSE: 1.1315, calibration RMSE: 3.3053, train MAE: 0.9539, calibration MAE: 3.1162\n",
      "--------------Start Parameter Set: 10 jaccard 0 ----------------\n",
      "----Now processing fold: 1----\n"
     ]
    },
    {
     "name": "stderr",
     "output_type": "stream",
     "text": [
      "/Users/monica/anaconda3/lib/python3.6/site-packages/sklearn/utils/validation.py:595: DataConversionWarning: Data with input dtype float64 was converted to bool by check_pairwise_arrays.\n",
      "  warnings.warn(msg, DataConversionWarning)\n",
      "/Users/monica/anaconda3/lib/python3.6/site-packages/sklearn/utils/validation.py:595: DataConversionWarning: Data with input dtype float64 was converted to bool by check_pairwise_arrays.\n",
      "  warnings.warn(msg, DataConversionWarning)\n"
     ]
    },
    {
     "name": "stdout",
     "output_type": "stream",
     "text": [
      "Fold 1 cost time 570.0820, train RMSE: 1.6143, calibration RMSE: 3.1575, train MAE: 1.4122, calibration MAE: 2.9532\n",
      "----Now processing fold: 2----\n"
     ]
    },
    {
     "name": "stderr",
     "output_type": "stream",
     "text": [
      "/Users/monica/anaconda3/lib/python3.6/site-packages/sklearn/utils/validation.py:595: DataConversionWarning: Data with input dtype float64 was converted to bool by check_pairwise_arrays.\n",
      "  warnings.warn(msg, DataConversionWarning)\n",
      "/Users/monica/anaconda3/lib/python3.6/site-packages/sklearn/utils/validation.py:595: DataConversionWarning: Data with input dtype float64 was converted to bool by check_pairwise_arrays.\n",
      "  warnings.warn(msg, DataConversionWarning)\n"
     ]
    },
    {
     "name": "stdout",
     "output_type": "stream",
     "text": [
      "Fold 2 cost time 570.3416, train RMSE: 1.6166, calibration RMSE: 3.1623, train MAE: 1.4148, calibration MAE: 2.9582\n",
      "----Now processing fold: 3----\n"
     ]
    },
    {
     "name": "stderr",
     "output_type": "stream",
     "text": [
      "/Users/monica/anaconda3/lib/python3.6/site-packages/sklearn/utils/validation.py:595: DataConversionWarning: Data with input dtype float64 was converted to bool by check_pairwise_arrays.\n",
      "  warnings.warn(msg, DataConversionWarning)\n",
      "/Users/monica/anaconda3/lib/python3.6/site-packages/sklearn/utils/validation.py:595: DataConversionWarning: Data with input dtype float64 was converted to bool by check_pairwise_arrays.\n",
      "  warnings.warn(msg, DataConversionWarning)\n"
     ]
    },
    {
     "name": "stdout",
     "output_type": "stream",
     "text": [
      "Fold 3 cost time 573.4667, train RMSE: 1.6142, calibration RMSE: 3.1575, train MAE: 1.4112, calibration MAE: 2.9516\n",
      "--------------Start Parameter Set: 15 jaccard 0 ----------------\n",
      "----Now processing fold: 1----\n"
     ]
    },
    {
     "name": "stderr",
     "output_type": "stream",
     "text": [
      "/Users/monica/anaconda3/lib/python3.6/site-packages/sklearn/utils/validation.py:595: DataConversionWarning: Data with input dtype float64 was converted to bool by check_pairwise_arrays.\n",
      "  warnings.warn(msg, DataConversionWarning)\n",
      "/Users/monica/anaconda3/lib/python3.6/site-packages/sklearn/utils/validation.py:595: DataConversionWarning: Data with input dtype float64 was converted to bool by check_pairwise_arrays.\n",
      "  warnings.warn(msg, DataConversionWarning)\n"
     ]
    },
    {
     "name": "stdout",
     "output_type": "stream",
     "text": [
      "Fold 1 cost time 574.1306, train RMSE: 1.8654, calibration RMSE: 3.0923, train MAE: 1.6518, calibration MAE: 2.8801\n",
      "----Now processing fold: 2----\n"
     ]
    },
    {
     "name": "stderr",
     "output_type": "stream",
     "text": [
      "/Users/monica/anaconda3/lib/python3.6/site-packages/sklearn/utils/validation.py:595: DataConversionWarning: Data with input dtype float64 was converted to bool by check_pairwise_arrays.\n",
      "  warnings.warn(msg, DataConversionWarning)\n",
      "/Users/monica/anaconda3/lib/python3.6/site-packages/sklearn/utils/validation.py:595: DataConversionWarning: Data with input dtype float64 was converted to bool by check_pairwise_arrays.\n",
      "  warnings.warn(msg, DataConversionWarning)\n"
     ]
    },
    {
     "name": "stdout",
     "output_type": "stream",
     "text": [
      "Fold 2 cost time 574.4607, train RMSE: 1.8685, calibration RMSE: 3.0969, train MAE: 1.6550, calibration MAE: 2.8851\n",
      "----Now processing fold: 3----\n"
     ]
    },
    {
     "name": "stderr",
     "output_type": "stream",
     "text": [
      "/Users/monica/anaconda3/lib/python3.6/site-packages/sklearn/utils/validation.py:595: DataConversionWarning: Data with input dtype float64 was converted to bool by check_pairwise_arrays.\n",
      "  warnings.warn(msg, DataConversionWarning)\n",
      "/Users/monica/anaconda3/lib/python3.6/site-packages/sklearn/utils/validation.py:595: DataConversionWarning: Data with input dtype float64 was converted to bool by check_pairwise_arrays.\n",
      "  warnings.warn(msg, DataConversionWarning)\n"
     ]
    },
    {
     "name": "stdout",
     "output_type": "stream",
     "text": [
      "Fold 3 cost time 577.4622, train RMSE: 1.8656, calibration RMSE: 3.0921, train MAE: 1.6511, calibration MAE: 2.8784\n",
      "--------------Start Parameter Set: 20 jaccard 0 ----------------\n",
      "----Now processing fold: 1----\n"
     ]
    },
    {
     "name": "stderr",
     "output_type": "stream",
     "text": [
      "/Users/monica/anaconda3/lib/python3.6/site-packages/sklearn/utils/validation.py:595: DataConversionWarning: Data with input dtype float64 was converted to bool by check_pairwise_arrays.\n",
      "  warnings.warn(msg, DataConversionWarning)\n",
      "/Users/monica/anaconda3/lib/python3.6/site-packages/sklearn/utils/validation.py:595: DataConversionWarning: Data with input dtype float64 was converted to bool by check_pairwise_arrays.\n",
      "  warnings.warn(msg, DataConversionWarning)\n"
     ]
    },
    {
     "name": "stdout",
     "output_type": "stream",
     "text": [
      "Fold 1 cost time 570.9969, train RMSE: 2.0235, calibration RMSE: 3.0560, train MAE: 1.8031, calibration MAE: 2.8395\n",
      "----Now processing fold: 2----\n"
     ]
    },
    {
     "name": "stderr",
     "output_type": "stream",
     "text": [
      "/Users/monica/anaconda3/lib/python3.6/site-packages/sklearn/utils/validation.py:595: DataConversionWarning: Data with input dtype float64 was converted to bool by check_pairwise_arrays.\n",
      "  warnings.warn(msg, DataConversionWarning)\n",
      "/Users/monica/anaconda3/lib/python3.6/site-packages/sklearn/utils/validation.py:595: DataConversionWarning: Data with input dtype float64 was converted to bool by check_pairwise_arrays.\n",
      "  warnings.warn(msg, DataConversionWarning)\n"
     ]
    },
    {
     "name": "stdout",
     "output_type": "stream",
     "text": [
      "Fold 2 cost time 575.3856, train RMSE: 2.0265, calibration RMSE: 3.0600, train MAE: 1.8062, calibration MAE: 2.8439\n",
      "----Now processing fold: 3----\n"
     ]
    },
    {
     "name": "stderr",
     "output_type": "stream",
     "text": [
      "/Users/monica/anaconda3/lib/python3.6/site-packages/sklearn/utils/validation.py:595: DataConversionWarning: Data with input dtype float64 was converted to bool by check_pairwise_arrays.\n",
      "  warnings.warn(msg, DataConversionWarning)\n",
      "/Users/monica/anaconda3/lib/python3.6/site-packages/sklearn/utils/validation.py:595: DataConversionWarning: Data with input dtype float64 was converted to bool by check_pairwise_arrays.\n",
      "  warnings.warn(msg, DataConversionWarning)\n"
     ]
    },
    {
     "name": "stdout",
     "output_type": "stream",
     "text": [
      "Fold 3 cost time 571.0054, train RMSE: 2.0239, calibration RMSE: 3.0565, train MAE: 1.8028, calibration MAE: 2.8384\n",
      "--------------Start Parameter Set: 25 jaccard 0 ----------------\n",
      "----Now processing fold: 1----\n"
     ]
    },
    {
     "name": "stderr",
     "output_type": "stream",
     "text": [
      "/Users/monica/anaconda3/lib/python3.6/site-packages/sklearn/utils/validation.py:595: DataConversionWarning: Data with input dtype float64 was converted to bool by check_pairwise_arrays.\n",
      "  warnings.warn(msg, DataConversionWarning)\n",
      "/Users/monica/anaconda3/lib/python3.6/site-packages/sklearn/utils/validation.py:595: DataConversionWarning: Data with input dtype float64 was converted to bool by check_pairwise_arrays.\n",
      "  warnings.warn(msg, DataConversionWarning)\n"
     ]
    },
    {
     "name": "stdout",
     "output_type": "stream",
     "text": [
      "Fold 1 cost time 572.8741, train RMSE: 2.1343, calibration RMSE: 3.0339, train MAE: 1.9097, calibration MAE: 2.8147\n",
      "----Now processing fold: 2----\n"
     ]
    },
    {
     "name": "stderr",
     "output_type": "stream",
     "text": [
      "/Users/monica/anaconda3/lib/python3.6/site-packages/sklearn/utils/validation.py:595: DataConversionWarning: Data with input dtype float64 was converted to bool by check_pairwise_arrays.\n",
      "  warnings.warn(msg, DataConversionWarning)\n",
      "/Users/monica/anaconda3/lib/python3.6/site-packages/sklearn/utils/validation.py:595: DataConversionWarning: Data with input dtype float64 was converted to bool by check_pairwise_arrays.\n",
      "  warnings.warn(msg, DataConversionWarning)\n"
     ]
    },
    {
     "name": "stdout",
     "output_type": "stream",
     "text": [
      "Fold 2 cost time 570.3924, train RMSE: 2.1363, calibration RMSE: 3.0369, train MAE: 1.9118, calibration MAE: 2.8181\n",
      "----Now processing fold: 3----\n"
     ]
    },
    {
     "name": "stderr",
     "output_type": "stream",
     "text": [
      "/Users/monica/anaconda3/lib/python3.6/site-packages/sklearn/utils/validation.py:595: DataConversionWarning: Data with input dtype float64 was converted to bool by check_pairwise_arrays.\n",
      "  warnings.warn(msg, DataConversionWarning)\n",
      "/Users/monica/anaconda3/lib/python3.6/site-packages/sklearn/utils/validation.py:595: DataConversionWarning: Data with input dtype float64 was converted to bool by check_pairwise_arrays.\n",
      "  warnings.warn(msg, DataConversionWarning)\n"
     ]
    },
    {
     "name": "stdout",
     "output_type": "stream",
     "text": [
      "Fold 3 cost time 571.8813, train RMSE: 2.1338, calibration RMSE: 3.0338, train MAE: 1.9085, calibration MAE: 2.8129\n",
      "--------------Start Parameter Set: 30 jaccard 0 ----------------\n",
      "----Now processing fold: 1----\n"
     ]
    },
    {
     "name": "stderr",
     "output_type": "stream",
     "text": [
      "/Users/monica/anaconda3/lib/python3.6/site-packages/sklearn/utils/validation.py:595: DataConversionWarning: Data with input dtype float64 was converted to bool by check_pairwise_arrays.\n",
      "  warnings.warn(msg, DataConversionWarning)\n",
      "/Users/monica/anaconda3/lib/python3.6/site-packages/sklearn/utils/validation.py:595: DataConversionWarning: Data with input dtype float64 was converted to bool by check_pairwise_arrays.\n",
      "  warnings.warn(msg, DataConversionWarning)\n"
     ]
    },
    {
     "name": "stdout",
     "output_type": "stream",
     "text": [
      "Fold 1 cost time 567.1407, train RMSE: 2.2163, calibration RMSE: 3.0187, train MAE: 1.9890, calibration MAE: 2.7980\n",
      "----Now processing fold: 2----\n"
     ]
    },
    {
     "name": "stderr",
     "output_type": "stream",
     "text": [
      "/Users/monica/anaconda3/lib/python3.6/site-packages/sklearn/utils/validation.py:595: DataConversionWarning: Data with input dtype float64 was converted to bool by check_pairwise_arrays.\n",
      "  warnings.warn(msg, DataConversionWarning)\n",
      "/Users/monica/anaconda3/lib/python3.6/site-packages/sklearn/utils/validation.py:595: DataConversionWarning: Data with input dtype float64 was converted to bool by check_pairwise_arrays.\n",
      "  warnings.warn(msg, DataConversionWarning)\n"
     ]
    },
    {
     "name": "stdout",
     "output_type": "stream",
     "text": [
      "Fold 2 cost time 570.7211, train RMSE: 2.2181, calibration RMSE: 3.0217, train MAE: 1.9907, calibration MAE: 2.8013\n",
      "----Now processing fold: 3----\n"
     ]
    },
    {
     "name": "stderr",
     "output_type": "stream",
     "text": [
      "/Users/monica/anaconda3/lib/python3.6/site-packages/sklearn/utils/validation.py:595: DataConversionWarning: Data with input dtype float64 was converted to bool by check_pairwise_arrays.\n",
      "  warnings.warn(msg, DataConversionWarning)\n",
      "/Users/monica/anaconda3/lib/python3.6/site-packages/sklearn/utils/validation.py:595: DataConversionWarning: Data with input dtype float64 was converted to bool by check_pairwise_arrays.\n",
      "  warnings.warn(msg, DataConversionWarning)\n"
     ]
    },
    {
     "name": "stdout",
     "output_type": "stream",
     "text": [
      "Fold 3 cost time 574.2999, train RMSE: 2.2164, calibration RMSE: 3.0190, train MAE: 1.9881, calibration MAE: 2.7966\n",
      "--------------Start Parameter Set: 35 jaccard 0 ----------------\n",
      "----Now processing fold: 1----\n"
     ]
    },
    {
     "name": "stderr",
     "output_type": "stream",
     "text": [
      "/Users/monica/anaconda3/lib/python3.6/site-packages/sklearn/utils/validation.py:595: DataConversionWarning: Data with input dtype float64 was converted to bool by check_pairwise_arrays.\n",
      "  warnings.warn(msg, DataConversionWarning)\n",
      "/Users/monica/anaconda3/lib/python3.6/site-packages/sklearn/utils/validation.py:595: DataConversionWarning: Data with input dtype float64 was converted to bool by check_pairwise_arrays.\n",
      "  warnings.warn(msg, DataConversionWarning)\n"
     ]
    },
    {
     "name": "stdout",
     "output_type": "stream",
     "text": [
      "Fold 1 cost time 576.2377, train RMSE: 2.2810, calibration RMSE: 3.0086, train MAE: 2.0518, calibration MAE: 2.7870\n",
      "----Now processing fold: 2----\n"
     ]
    },
    {
     "name": "stderr",
     "output_type": "stream",
     "text": [
      "/Users/monica/anaconda3/lib/python3.6/site-packages/sklearn/utils/validation.py:595: DataConversionWarning: Data with input dtype float64 was converted to bool by check_pairwise_arrays.\n",
      "  warnings.warn(msg, DataConversionWarning)\n",
      "/Users/monica/anaconda3/lib/python3.6/site-packages/sklearn/utils/validation.py:595: DataConversionWarning: Data with input dtype float64 was converted to bool by check_pairwise_arrays.\n",
      "  warnings.warn(msg, DataConversionWarning)\n"
     ]
    },
    {
     "name": "stdout",
     "output_type": "stream",
     "text": [
      "Fold 2 cost time 574.6848, train RMSE: 2.2823, calibration RMSE: 3.0112, train MAE: 2.0529, calibration MAE: 2.7897\n",
      "----Now processing fold: 3----\n"
     ]
    },
    {
     "name": "stderr",
     "output_type": "stream",
     "text": [
      "/Users/monica/anaconda3/lib/python3.6/site-packages/sklearn/utils/validation.py:595: DataConversionWarning: Data with input dtype float64 was converted to bool by check_pairwise_arrays.\n",
      "  warnings.warn(msg, DataConversionWarning)\n",
      "/Users/monica/anaconda3/lib/python3.6/site-packages/sklearn/utils/validation.py:595: DataConversionWarning: Data with input dtype float64 was converted to bool by check_pairwise_arrays.\n",
      "  warnings.warn(msg, DataConversionWarning)\n"
     ]
    },
    {
     "name": "stdout",
     "output_type": "stream",
     "text": [
      "Fold 3 cost time 574.2639, train RMSE: 2.2807, calibration RMSE: 3.0088, train MAE: 2.0505, calibration MAE: 2.7854\n",
      "--------------Start Parameter Set: 40 jaccard 0 ----------------\n",
      "----Now processing fold: 1----\n"
     ]
    },
    {
     "name": "stderr",
     "output_type": "stream",
     "text": [
      "/Users/monica/anaconda3/lib/python3.6/site-packages/sklearn/utils/validation.py:595: DataConversionWarning: Data with input dtype float64 was converted to bool by check_pairwise_arrays.\n",
      "  warnings.warn(msg, DataConversionWarning)\n",
      "/Users/monica/anaconda3/lib/python3.6/site-packages/sklearn/utils/validation.py:595: DataConversionWarning: Data with input dtype float64 was converted to bool by check_pairwise_arrays.\n",
      "  warnings.warn(msg, DataConversionWarning)\n"
     ]
    },
    {
     "name": "stdout",
     "output_type": "stream",
     "text": [
      "Fold 1 cost time 575.9053, train RMSE: 2.3328, calibration RMSE: 3.0013, train MAE: 2.1023, calibration MAE: 2.7789\n",
      "----Now processing fold: 2----\n"
     ]
    },
    {
     "name": "stderr",
     "output_type": "stream",
     "text": [
      "/Users/monica/anaconda3/lib/python3.6/site-packages/sklearn/utils/validation.py:595: DataConversionWarning: Data with input dtype float64 was converted to bool by check_pairwise_arrays.\n",
      "  warnings.warn(msg, DataConversionWarning)\n",
      "/Users/monica/anaconda3/lib/python3.6/site-packages/sklearn/utils/validation.py:595: DataConversionWarning: Data with input dtype float64 was converted to bool by check_pairwise_arrays.\n",
      "  warnings.warn(msg, DataConversionWarning)\n"
     ]
    },
    {
     "name": "stdout",
     "output_type": "stream",
     "text": [
      "Fold 2 cost time 578.4124, train RMSE: 2.3343, calibration RMSE: 3.0039, train MAE: 2.1035, calibration MAE: 2.7816\n",
      "----Now processing fold: 3----\n"
     ]
    },
    {
     "name": "stderr",
     "output_type": "stream",
     "text": [
      "/Users/monica/anaconda3/lib/python3.6/site-packages/sklearn/utils/validation.py:595: DataConversionWarning: Data with input dtype float64 was converted to bool by check_pairwise_arrays.\n",
      "  warnings.warn(msg, DataConversionWarning)\n",
      "/Users/monica/anaconda3/lib/python3.6/site-packages/sklearn/utils/validation.py:595: DataConversionWarning: Data with input dtype float64 was converted to bool by check_pairwise_arrays.\n",
      "  warnings.warn(msg, DataConversionWarning)\n"
     ]
    },
    {
     "name": "stdout",
     "output_type": "stream",
     "text": [
      "Fold 3 cost time 576.9594, train RMSE: 2.3324, calibration RMSE: 3.0015, train MAE: 2.1009, calibration MAE: 2.7775\n",
      "--------------Start Parameter Set: 45 jaccard 0 ----------------\n",
      "----Now processing fold: 1----\n"
     ]
    },
    {
     "name": "stderr",
     "output_type": "stream",
     "text": [
      "/Users/monica/anaconda3/lib/python3.6/site-packages/sklearn/utils/validation.py:595: DataConversionWarning: Data with input dtype float64 was converted to bool by check_pairwise_arrays.\n",
      "  warnings.warn(msg, DataConversionWarning)\n",
      "/Users/monica/anaconda3/lib/python3.6/site-packages/sklearn/utils/validation.py:595: DataConversionWarning: Data with input dtype float64 was converted to bool by check_pairwise_arrays.\n",
      "  warnings.warn(msg, DataConversionWarning)\n"
     ]
    },
    {
     "name": "stdout",
     "output_type": "stream",
     "text": [
      "Fold 1 cost time 573.1233, train RMSE: 2.3758, calibration RMSE: 2.9959, train MAE: 2.1443, calibration MAE: 2.7732\n",
      "----Now processing fold: 2----\n"
     ]
    },
    {
     "name": "stderr",
     "output_type": "stream",
     "text": [
      "/Users/monica/anaconda3/lib/python3.6/site-packages/sklearn/utils/validation.py:595: DataConversionWarning: Data with input dtype float64 was converted to bool by check_pairwise_arrays.\n",
      "  warnings.warn(msg, DataConversionWarning)\n",
      "/Users/monica/anaconda3/lib/python3.6/site-packages/sklearn/utils/validation.py:595: DataConversionWarning: Data with input dtype float64 was converted to bool by check_pairwise_arrays.\n",
      "  warnings.warn(msg, DataConversionWarning)\n"
     ]
    },
    {
     "name": "stdout",
     "output_type": "stream",
     "text": [
      "Fold 2 cost time 599.2534, train RMSE: 2.3771, calibration RMSE: 2.9983, train MAE: 2.1454, calibration MAE: 2.7756\n",
      "----Now processing fold: 3----\n"
     ]
    },
    {
     "name": "stderr",
     "output_type": "stream",
     "text": [
      "/Users/monica/anaconda3/lib/python3.6/site-packages/sklearn/utils/validation.py:595: DataConversionWarning: Data with input dtype float64 was converted to bool by check_pairwise_arrays.\n",
      "  warnings.warn(msg, DataConversionWarning)\n",
      "/Users/monica/anaconda3/lib/python3.6/site-packages/sklearn/utils/validation.py:595: DataConversionWarning: Data with input dtype float64 was converted to bool by check_pairwise_arrays.\n",
      "  warnings.warn(msg, DataConversionWarning)\n"
     ]
    },
    {
     "name": "stdout",
     "output_type": "stream",
     "text": [
      "Fold 3 cost time 610.6276, train RMSE: 2.3753, calibration RMSE: 2.9962, train MAE: 2.1428, calibration MAE: 2.7718\n",
      "--------------Start Parameter Set: 50 jaccard 0 ----------------\n",
      "----Now processing fold: 1----\n"
     ]
    },
    {
     "name": "stderr",
     "output_type": "stream",
     "text": [
      "/Users/monica/anaconda3/lib/python3.6/site-packages/sklearn/utils/validation.py:595: DataConversionWarning: Data with input dtype float64 was converted to bool by check_pairwise_arrays.\n",
      "  warnings.warn(msg, DataConversionWarning)\n",
      "/Users/monica/anaconda3/lib/python3.6/site-packages/sklearn/utils/validation.py:595: DataConversionWarning: Data with input dtype float64 was converted to bool by check_pairwise_arrays.\n",
      "  warnings.warn(msg, DataConversionWarning)\n"
     ]
    },
    {
     "name": "stdout",
     "output_type": "stream",
     "text": [
      "Fold 1 cost time 575.3314, train RMSE: 2.4121, calibration RMSE: 2.9919, train MAE: 2.1799, calibration MAE: 2.7690\n",
      "----Now processing fold: 2----\n"
     ]
    },
    {
     "name": "stderr",
     "output_type": "stream",
     "text": [
      "/Users/monica/anaconda3/lib/python3.6/site-packages/sklearn/utils/validation.py:595: DataConversionWarning: Data with input dtype float64 was converted to bool by check_pairwise_arrays.\n",
      "  warnings.warn(msg, DataConversionWarning)\n",
      "/Users/monica/anaconda3/lib/python3.6/site-packages/sklearn/utils/validation.py:595: DataConversionWarning: Data with input dtype float64 was converted to bool by check_pairwise_arrays.\n",
      "  warnings.warn(msg, DataConversionWarning)\n"
     ]
    },
    {
     "name": "stdout",
     "output_type": "stream",
     "text": [
      "Fold 2 cost time 578.1831, train RMSE: 2.4135, calibration RMSE: 2.9942, train MAE: 2.1811, calibration MAE: 2.7713\n",
      "----Now processing fold: 3----\n"
     ]
    },
    {
     "name": "stderr",
     "output_type": "stream",
     "text": [
      "/Users/monica/anaconda3/lib/python3.6/site-packages/sklearn/utils/validation.py:595: DataConversionWarning: Data with input dtype float64 was converted to bool by check_pairwise_arrays.\n",
      "  warnings.warn(msg, DataConversionWarning)\n",
      "/Users/monica/anaconda3/lib/python3.6/site-packages/sklearn/utils/validation.py:595: DataConversionWarning: Data with input dtype float64 was converted to bool by check_pairwise_arrays.\n",
      "  warnings.warn(msg, DataConversionWarning)\n"
     ]
    },
    {
     "name": "stdout",
     "output_type": "stream",
     "text": [
      "Fold 3 cost time 579.8821, train RMSE: 2.4114, calibration RMSE: 2.9921, train MAE: 2.1782, calibration MAE: 2.7674\n",
      "--------------Start Parameter Set: 5 correlation 0 ----------------\n",
      "----Now processing fold: 1----\n",
      "Fold 1 cost time 517.7502, train RMSE: 1.4828, calibration RMSE: 3.2188, train MAE: 1.2735, calibration MAE: 3.0181\n",
      "----Now processing fold: 2----\n",
      "Fold 2 cost time 528.0006, train RMSE: 1.4864, calibration RMSE: 3.2240, train MAE: 1.2769, calibration MAE: 3.0236\n",
      "----Now processing fold: 3----\n",
      "Fold 3 cost time 517.8888, train RMSE: 1.4811, calibration RMSE: 3.2195, train MAE: 1.2716, calibration MAE: 3.0179\n",
      "--------------Start Parameter Set: 10 correlation 0 ----------------\n",
      "----Now processing fold: 1----\n",
      "Fold 1 cost time 530.4381, train RMSE: 1.9352, calibration RMSE: 3.0868, train MAE: 1.7153, calibration MAE: 2.8755\n",
      "----Now processing fold: 2----\n",
      "Fold 2 cost time 542.5564, train RMSE: 1.9393, calibration RMSE: 3.0923, train MAE: 1.7191, calibration MAE: 2.8812\n",
      "----Now processing fold: 3----\n",
      "Fold 3 cost time 506.9547, train RMSE: 1.9335, calibration RMSE: 3.0863, train MAE: 1.7124, calibration MAE: 2.8736\n",
      "--------------Start Parameter Set: 15 correlation 0 ----------------\n",
      "----Now processing fold: 1----\n",
      "Fold 1 cost time 512.6326, train RMSE: 2.1433, calibration RMSE: 3.0365, train MAE: 1.9193, calibration MAE: 2.8222\n",
      "----Now processing fold: 2----\n",
      "Fold 2 cost time 527.1888, train RMSE: 2.1458, calibration RMSE: 3.0404, train MAE: 1.9212, calibration MAE: 2.8259\n",
      "----Now processing fold: 3----\n",
      "Fold 3 cost time 530.3290, train RMSE: 2.1412, calibration RMSE: 3.0353, train MAE: 1.9156, calibration MAE: 2.8193\n",
      "--------------Start Parameter Set: 20 correlation 0 ----------------\n",
      "----Now processing fold: 1----\n",
      "Fold 1 cost time 526.8363, train RMSE: 2.2646, calibration RMSE: 3.0086, train MAE: 2.0385, calibration MAE: 2.7933\n",
      "----Now processing fold: 2----\n",
      "Fold 2 cost time 534.4811, train RMSE: 2.2684, calibration RMSE: 3.0144, train MAE: 2.0420, calibration MAE: 2.7991\n",
      "----Now processing fold: 3----\n",
      "Fold 3 cost time 551.0855, train RMSE: 2.2630, calibration RMSE: 3.0083, train MAE: 2.0358, calibration MAE: 2.7912\n",
      "--------------Start Parameter Set: 25 correlation 0 ----------------\n",
      "----Now processing fold: 1----\n",
      "Fold 1 cost time 545.4391, train RMSE: 2.3464, calibration RMSE: 2.9931, train MAE: 2.1192, calibration MAE: 2.7772\n",
      "----Now processing fold: 2----\n"
     ]
    },
    {
     "ename": "KeyboardInterrupt",
     "evalue": "",
     "output_type": "error",
     "traceback": [
      "\u001b[0;31m---------------------------------------------------------------------------\u001b[0m",
      "\u001b[0;31mKeyboardInterrupt\u001b[0m                         Traceback (most recent call last)",
      "\u001b[0;32m<ipython-input-20-6ed48cbb3c09>\u001b[0m in \u001b[0;36m<module>\u001b[0;34m\u001b[0m\n\u001b[1;32m     17\u001b[0m                                  n_neighbors=param_set.get('Nneighbor'), n_jobs=-1)\n\u001b[1;32m     18\u001b[0m     knn_cv = CV(knn,nneigh=param_set.get('Nneighbor'),nfolds=3,data=ratings_shuffle,\n\u001b[0;32m---> 19\u001b[0;31m                 verbose=0,item_flag=param_set.get('Item_flag'))\n\u001b[0m\u001b[1;32m     20\u001b[0m     \u001b[0mscores_f\u001b[0m\u001b[0;34m.\u001b[0m\u001b[0mappend\u001b[0m\u001b[0;34m(\u001b[0m\u001b[0mknn_cv\u001b[0m\u001b[0;34m)\u001b[0m\u001b[0;34m\u001b[0m\u001b[0;34m\u001b[0m\u001b[0m\n\u001b[1;32m     21\u001b[0m     \u001b[0;32mif\u001b[0m \u001b[0mbest_scores_rmse\u001b[0m \u001b[0;34m>\u001b[0m \u001b[0mknn_cv\u001b[0m\u001b[0;34m[\u001b[0m\u001b[0;36m0\u001b[0m\u001b[0;34m]\u001b[0m\u001b[0;34m:\u001b[0m\u001b[0;34m\u001b[0m\u001b[0;34m\u001b[0m\u001b[0m\n",
      "\u001b[0;32m<ipython-input-13-9b9359d8e850>\u001b[0m in \u001b[0;36mCV\u001b[0;34m(model, nneigh, nfolds, data, verbose, item_flag)\u001b[0m\n\u001b[1;32m     27\u001b[0m         \u001b[0;31m#predict\u001b[0m\u001b[0;34m\u001b[0m\u001b[0;34m\u001b[0m\u001b[0;34m\u001b[0m\u001b[0m\n\u001b[1;32m     28\u001b[0m         \u001b[0mtmp\u001b[0m\u001b[0;34m=\u001b[0m\u001b[0mabs\u001b[0m\u001b[0;34m(\u001b[0m\u001b[0mS\u001b[0m\u001b[0;34m)\u001b[0m\u001b[0;34m.\u001b[0m\u001b[0msum\u001b[0m\u001b[0;34m(\u001b[0m\u001b[0maxis\u001b[0m\u001b[0;34m=\u001b[0m\u001b[0;36m1\u001b[0m\u001b[0;34m)\u001b[0m\u001b[0;34m\u001b[0m\u001b[0;34m\u001b[0m\u001b[0m\n\u001b[0;32m---> 29\u001b[0;31m         \u001b[0mpred\u001b[0m\u001b[0;34m=\u001b[0m\u001b[0mnp\u001b[0m\u001b[0;34m.\u001b[0m\u001b[0mdot\u001b[0m\u001b[0;34m(\u001b[0m\u001b[0mS\u001b[0m\u001b[0;34m,\u001b[0m\u001b[0mtrain_extend\u001b[0m\u001b[0;34m)\u001b[0m\u001b[0;34m/\u001b[0m\u001b[0mtmp\u001b[0m\u001b[0;34m[\u001b[0m\u001b[0;34m:\u001b[0m\u001b[0;34m,\u001b[0m\u001b[0;32mNone\u001b[0m\u001b[0;34m]\u001b[0m\u001b[0;34m\u001b[0m\u001b[0;34m\u001b[0m\u001b[0m\n\u001b[0m\u001b[1;32m     30\u001b[0m         \u001b[0;31m#print(np.sqrt(np.nanmean(np.square(train_extend[train_extend!=0]-pred_train))))\u001b[0m\u001b[0;34m\u001b[0m\u001b[0;34m\u001b[0m\u001b[0;34m\u001b[0m\u001b[0m\n\u001b[1;32m     31\u001b[0m         \u001b[0;31m#print(np.nanmean(train_extend[train_extend!=0].abs()-np.abs(pred_train)))\u001b[0m\u001b[0;34m\u001b[0m\u001b[0;34m\u001b[0m\u001b[0;34m\u001b[0m\u001b[0m\n",
      "\u001b[0;31mKeyboardInterrupt\u001b[0m: "
     ]
    }
   ],
   "source": [
    "## Grid Search\n",
    "Item_flag =[0,1]\n",
    "Metric = ['cosine','jaccard','correlation']\n",
    "Nneighbor = np.arange(5,55,5)\n",
    "param_grid = {'Item_flag':Item_flag, 'Metric': Metric,'Nneighbor':Nneighbor}\n",
    "param_grid = list(ParameterGrid(param_grid))\n",
    "\n",
    "scores_f = []\n",
    "best_scores_rmse= float('inf')\n",
    "best_scores_mae = float('inf')\n",
    "\n",
    "start = time.time()\n",
    "for j, param_set in enumerate(param_grid):\n",
    "    print('--------------Start Parameter Set:',param_set.get('Nneighbor'),\n",
    "          param_set.get('Metric'),param_set.get('Item_flag'),'----------------')\n",
    "    knn = NearestNeighbors(metric=param_set.get('Metric'), algorithm='brute', \n",
    "                                 n_neighbors=param_set.get('Nneighbor'), n_jobs=-1)\n",
    "    knn_cv = CV(knn,nneigh=param_set.get('Nneighbor'),nfolds=3,data=ratings_shuffle,\n",
    "                verbose=0,item_flag=param_set.get('Item_flag'))\n",
    "    scores_f.append(knn_cv)\n",
    "    if best_scores_rmse > knn_cv[0]:\n",
    "        best_scores_rmse = knn_cv[0]\n",
    "        best_param_rmse = param_set\n",
    "        \n",
    "    if best_scores_mae > knn_cv[1]:\n",
    "        best_scores_mae = knn_cv[1]\n",
    "        best_param_mae = param_set\n",
    "print(\"best parameter set is %s, with RMSE is %.4f\" % (best_param_rmse, best_scores_rmse))\n",
    "print(\"best parameter set is %s, with MAE is %.4f\" % (best_param_mae, best_scores_mae))\n",
    "print(\"finsied in %s seconds\" %(time.time()-start))"
   ]
  },
  {
   "cell_type": "code",
   "execution_count": 21,
   "metadata": {
    "scrolled": true
   },
   "outputs": [
    {
     "name": "stdout",
     "output_type": "stream",
     "text": [
      "best parameter set is {'Item_flag': 0, 'Metric': 'cosine', 'Nneighbor': 50}, with RMSE is 2.9247\n",
      "best parameter set is {'Item_flag': 0, 'Metric': 'cosine', 'Nneighbor': 50}, with MAE is 2.7027\n"
     ]
    }
   ],
   "source": [
    "print(\"best parameter set is %s, with RMSE is %.4f\" % (best_param_rmse, best_scores_rmse))\n",
    "print(\"best parameter set is %s, with MAE is %.4f\" % (best_param_mae, best_scores_mae))"
   ]
  },
  {
   "cell_type": "code",
   "execution_count": 22,
   "metadata": {},
   "outputs": [],
   "source": [
    "rmse_test=[]\n",
    "mae_test=[]\n",
    "rmse_train=[]\n",
    "mae_train=[]\n",
    "\n",
    "for i in range(len(scores_f)):\n",
    "    rmse_test.append(scores_f[i][0])\n",
    "    mae_test.append(scores_f[i][1])\n",
    "    rmse_train.append(scores_f[i][2])\n",
    "    mae_train.append(scores_f[i][3])"
   ]
  },
  {
   "cell_type": "code",
   "execution_count": 32,
   "metadata": {
    "scrolled": false
   },
   "outputs": [
    {
     "data": {
      "image/png": "[encoded data removed]",
      "text/plain": [
       "<Figure size 1080x720 with 2 Axes>"
      ]
     },
     "metadata": {
      "needs_background": "light"
     },
     "output_type": "display_data"
    }
   ],
   "source": [
    "plt.figure(figsize=(15,10))\n",
    "plt.subplot(221)\n",
    "plt.plot(Nneighbor,rmse_train[0:len(Nneighbor)],label='train rmse(cosine)',color='coral', linestyle='-')\n",
    "plt.plot(Nneighbor,rmse_train[len(Nneighbor):2*len(Nneighbor)],label='train rmse(jaccard)',color='green', linestyle='-')\n",
    "#plt.plot(Nneighbor,rmse_train[2*len(Nneighbor):3*len(Nneighbor)],label='train rmse(correlation)',color='blue', linestyle='-')\n",
    "plt.plot(Nneighbor,rmse_test[0:len(Nneighbor)],label='test rmse(cosine)',color='coral', linestyle='--')\n",
    "plt.plot(Nneighbor,rmse_test[len(Nneighbor):2*len(Nneighbor)],label='test rmse(jaccard)',color='green', linestyle='--')\n",
    "#plt.plot(Nneighbor,rmse_test[2*len(Nneighbor):3*len(Nneighbor)],label='test rmse(correlation)',color='blue', linestyle='--')\n",
    "plt.title('User-Based CF (RMSE)')\n",
    "plt.xlabel('Number of Neighbors')\n",
    "plt.ylabel('RMSE Scores')\n",
    "plt.legend()\n",
    "\n",
    "#plt.subplot(222)\n",
    "#plt.plot(Nneighbor,rmse_train[3*len(Nneighbor):4*len(Nneighbor)],label='train rmse(cosine)',color='coral', linestyle='-')\n",
    "#plt.plot(Nneighbor,rmse_train[4*len(Nneighbor):5*len(Nneighbor)],label='train rmse(jaccard)',color='green', linestyle='-')\n",
    "#plt.plot(Nneighbor,rmse_train[5*len(Nneighbor):6*len(Nneighbor)],label='train rmse(correlation)',color='blue', linestyle='-')\n",
    "#plt.plot(Nneighbor,rmse_test[3*len(Nneighbor):4*len(Nneighbor)],label='test rmse(cosine)',color='coral', linestyle='--')\n",
    "#plt.plot(Nneighbor,rmse_test[4*len(Nneighbor):5*len(Nneighbor)],label='test rmse(jaccard)',color='green', linestyle='--')\n",
    "#plt.plot(Nneighbor,rmse_test[5*len(Nneighbor):6*len(Nneighbor)],label='test rmse(correlation)',color='blue', linestyle='--')\n",
    "#plt.title('Item-Based CF (RMSE)')\n",
    "#plt.xlabel('Number of Neighbors')\n",
    "#plt.ylabel('RMSE Scores')\n",
    "#plt.legend()\n",
    "\n",
    "plt.subplot(222)\n",
    "plt.plot(Nneighbor,mae_train[0:len(Nneighbor)],label='train rmse(cosine)',color='coral', linestyle='-')\n",
    "plt.plot(Nneighbor,mae_train[len(Nneighbor):2*len(Nneighbor)],label='train rmse(jaccard)',color='green', linestyle='-')\n",
    "#plt.plot(Nneighbor,mae_train[2*len(Nneighbor):3*len(Nneighbor)],label='train rmse(correlation)',color='blue', linestyle='-')\n",
    "plt.plot(Nneighbor,mae_test[0:len(Nneighbor)],label='test rmse(cosine)',color='coral', linestyle='--')\n",
    "plt.plot(Nneighbor,mae_test[len(Nneighbor):2*len(Nneighbor)],label='test rmse(jaccard)',color='green', linestyle='--')\n",
    "#plt.plot(Nneighbor,mae_test[2*len(Nneighbor):3*len(Nneighbor)],label='test rmse(correlation)',color='blue', linestyle='--')\n",
    "plt.title('User-Based CF (MAE)')\n",
    "plt.xlabel('Number of Neighbors')\n",
    "plt.ylabel('MAE Scores')\n",
    "plt.legend()\n",
    "\n",
    "#plt.subplot(224)\n",
    "#plt.plot(Nneighbor,mae_train[3*len(Nneighbor):4*len(Nneighbor)],label='train rmse(cosine)',color='coral', linestyle='-')\n",
    "#plt.plot(Nneighbor,mae_train[4*len(Nneighbor):5*len(Nneighbor)],label='train rmse(jaccard)',color='green', linestyle='-')\n",
    "#plt.plot(Nneighbor,mae_train[5*len(Nneighbor):6*len(Nneighbor)],label='train rmse(correlation)',color='blue', linestyle='-')\n",
    "#plt.plot(Nneighbor,mae_test[3*len(Nneighbor):4*len(Nneighbor)],label='test rmse(cosine)',color='coral', linestyle='--')\n",
    "#plt.plot(Nneighbor,mae_test[4*len(Nneighbor):5*len(Nneighbor)],label='test rmse(jaccard)',color='green', linestyle='--')\n",
    "#plt.plot(Nneighbor,mae_test[5*len(Nneighbor):6*len(Nneighbor)],label='test rmse(correlation)',color='blue', linestyle='--')\n",
    "#plt.title('Item-Based CF (MAE)')\n",
    "#plt.xlabel('Number of Neighbors')\n",
    "#plt.ylabel('MAE Scores')\n",
    "#plt.legend()\n",
    "\n",
    "plt.show()"
   ]
  },
  {
   "cell_type": "code",
   "execution_count": 40,
   "metadata": {},
   "outputs": [
    {
     "name": "stdout",
     "output_type": "stream",
     "text": [
      "----Now processing fold: 1----\n",
      "Fold 1 cost time 186.6627, train RMSE: 2.2881, calibration RMSE: 2.7409, train MAE: 1.9956, calibration MAE: 2.4687\n",
      "----Now processing fold: 2----\n",
      "Fold 2 cost time 171.3853, train RMSE: 2.2867, calibration RMSE: 2.7409, train MAE: 1.9947, calibration MAE: 2.4691\n",
      "----Now processing fold: 3----\n",
      "Fold 3 cost time 180.0010, train RMSE: 2.2887, calibration RMSE: 2.7456, train MAE: 1.9961, calibration MAE: 2.4737\n",
      "----Now processing fold: 4----\n",
      "Fold 4 cost time 205.0086, train RMSE: 2.2885, calibration RMSE: 2.7421, train MAE: 1.9979, calibration MAE: 2.4700\n",
      "----Now processing fold: 5----\n",
      "Fold 5 cost time 191.6917, train RMSE: 2.2881, calibration RMSE: 2.7427, train MAE: 1.9952, calibration MAE: 2.4693\n",
      "training time: 936.7423989772797\n"
     ]
    }
   ],
   "source": [
    "start=time.time()\n",
    "model_knn_user = NearestNeighbors(metric='cosine', algorithm='brute', n_neighbors=32, n_jobs=-1)\n",
    "knn_cv_user = CV(model_knn_user,nneigh=32,nfolds=5,data=ratings_shuffle,verbose=0,item_flag=0)\n",
    "print(\"training time:\",time.time()-start)"
   ]
  },
  {
   "cell_type": "code",
   "execution_count": 42,
   "metadata": {
    "scrolled": true
   },
   "outputs": [
    {
     "name": "stdout",
     "output_type": "stream",
     "text": [
      "average RMSE: 2.7424, average MAE: 2.4702\n"
     ]
    }
   ],
   "source": [
    "print(\"average RMSE: {:.4f}, average MAE: {:.4f}\".format(knn_cv_user[0],knn_cv_user[1]))"
   ]
  },
  {
   "cell_type": "markdown",
   "metadata": {},
   "source": [
    "## Item-based"
   ]
  },
  {
   "cell_type": "code",
   "execution_count": null,
   "metadata": {},
   "outputs": [],
   "source": []
  },
  {
   "cell_type": "code",
   "execution_count": 44,
   "metadata": {},
   "outputs": [
    {
     "name": "stdout",
     "output_type": "stream",
     "text": [
      "----Now processing fold: 1----\n"
     ]
    },
    {
     "name": "stderr",
     "output_type": "stream",
     "text": [
      "/Users/monica/anaconda3/lib/python3.6/site-packages/sklearn/utils/validation.py:595: DataConversionWarning: Data with input dtype float64 was converted to bool by check_pairwise_arrays.\n",
      "  warnings.warn(msg, DataConversionWarning)\n",
      "/Users/monica/anaconda3/lib/python3.6/site-packages/sklearn/utils/validation.py:595: DataConversionWarning: Data with input dtype float64 was converted to bool by check_pairwise_arrays.\n",
      "  warnings.warn(msg, DataConversionWarning)\n",
      "/Users/monica/anaconda3/lib/python3.6/site-packages/sklearn/utils/validation.py:595: DataConversionWarning: Data with input dtype float64 was converted to bool by check_pairwise_arrays.\n",
      "  warnings.warn(msg, DataConversionWarning)\n",
      "/Users/monica/anaconda3/lib/python3.6/site-packages/sklearn/utils/validation.py:595: DataConversionWarning: Data with input dtype float64 was converted to bool by check_pairwise_arrays.\n",
      "  warnings.warn(msg, DataConversionWarning)\n"
     ]
    },
    {
     "name": "stdout",
     "output_type": "stream",
     "text": [
      "Fold 1 cost time 1164.2705, train RMSE: 2.1216, calibration RMSE: 2.8026, train MAE: 1.8641, calibration MAE: 2.5521\n",
      "----Now processing fold: 2----\n"
     ]
    },
    {
     "name": "stderr",
     "output_type": "stream",
     "text": [
      "/Users/monica/anaconda3/lib/python3.6/site-packages/sklearn/utils/validation.py:595: DataConversionWarning: Data with input dtype float64 was converted to bool by check_pairwise_arrays.\n",
      "  warnings.warn(msg, DataConversionWarning)\n",
      "/Users/monica/anaconda3/lib/python3.6/site-packages/sklearn/utils/validation.py:595: DataConversionWarning: Data with input dtype float64 was converted to bool by check_pairwise_arrays.\n",
      "  warnings.warn(msg, DataConversionWarning)\n",
      "/Users/monica/anaconda3/lib/python3.6/site-packages/sklearn/utils/validation.py:595: DataConversionWarning: Data with input dtype float64 was converted to bool by check_pairwise_arrays.\n",
      "  warnings.warn(msg, DataConversionWarning)\n",
      "/Users/monica/anaconda3/lib/python3.6/site-packages/sklearn/utils/validation.py:595: DataConversionWarning: Data with input dtype float64 was converted to bool by check_pairwise_arrays.\n",
      "  warnings.warn(msg, DataConversionWarning)\n"
     ]
    },
    {
     "name": "stdout",
     "output_type": "stream",
     "text": [
      "Fold 2 cost time 1086.3063, train RMSE: 2.1225, calibration RMSE: 2.8058, train MAE: 1.8649, calibration MAE: 2.5559\n",
      "----Now processing fold: 3----\n"
     ]
    },
    {
     "name": "stderr",
     "output_type": "stream",
     "text": [
      "/Users/monica/anaconda3/lib/python3.6/site-packages/sklearn/utils/validation.py:595: DataConversionWarning: Data with input dtype float64 was converted to bool by check_pairwise_arrays.\n",
      "  warnings.warn(msg, DataConversionWarning)\n",
      "/Users/monica/anaconda3/lib/python3.6/site-packages/sklearn/utils/validation.py:595: DataConversionWarning: Data with input dtype float64 was converted to bool by check_pairwise_arrays.\n",
      "  warnings.warn(msg, DataConversionWarning)\n",
      "/Users/monica/anaconda3/lib/python3.6/site-packages/sklearn/utils/validation.py:595: DataConversionWarning: Data with input dtype float64 was converted to bool by check_pairwise_arrays.\n",
      "  warnings.warn(msg, DataConversionWarning)\n",
      "/Users/monica/anaconda3/lib/python3.6/site-packages/sklearn/utils/validation.py:595: DataConversionWarning: Data with input dtype float64 was converted to bool by check_pairwise_arrays.\n",
      "  warnings.warn(msg, DataConversionWarning)\n"
     ]
    },
    {
     "name": "stdout",
     "output_type": "stream",
     "text": [
      "Fold 3 cost time 1173.5694, train RMSE: 2.1226, calibration RMSE: 2.8094, train MAE: 1.8651, calibration MAE: 2.5589\n",
      "----Now processing fold: 4----\n"
     ]
    },
    {
     "name": "stderr",
     "output_type": "stream",
     "text": [
      "/Users/monica/anaconda3/lib/python3.6/site-packages/sklearn/utils/validation.py:595: DataConversionWarning: Data with input dtype float64 was converted to bool by check_pairwise_arrays.\n",
      "  warnings.warn(msg, DataConversionWarning)\n",
      "/Users/monica/anaconda3/lib/python3.6/site-packages/sklearn/utils/validation.py:595: DataConversionWarning: Data with input dtype float64 was converted to bool by check_pairwise_arrays.\n",
      "  warnings.warn(msg, DataConversionWarning)\n",
      "/Users/monica/anaconda3/lib/python3.6/site-packages/sklearn/utils/validation.py:595: DataConversionWarning: Data with input dtype float64 was converted to bool by check_pairwise_arrays.\n",
      "  warnings.warn(msg, DataConversionWarning)\n",
      "/Users/monica/anaconda3/lib/python3.6/site-packages/sklearn/utils/validation.py:595: DataConversionWarning: Data with input dtype float64 was converted to bool by check_pairwise_arrays.\n",
      "  warnings.warn(msg, DataConversionWarning)\n"
     ]
    },
    {
     "name": "stdout",
     "output_type": "stream",
     "text": [
      "Fold 4 cost time 1138.9672, train RMSE: 2.1227, calibration RMSE: 2.8059, train MAE: 1.8658, calibration MAE: 2.5553\n",
      "----Now processing fold: 5----\n"
     ]
    },
    {
     "name": "stderr",
     "output_type": "stream",
     "text": [
      "/Users/monica/anaconda3/lib/python3.6/site-packages/sklearn/utils/validation.py:595: DataConversionWarning: Data with input dtype float64 was converted to bool by check_pairwise_arrays.\n",
      "  warnings.warn(msg, DataConversionWarning)\n",
      "/Users/monica/anaconda3/lib/python3.6/site-packages/sklearn/utils/validation.py:595: DataConversionWarning: Data with input dtype float64 was converted to bool by check_pairwise_arrays.\n",
      "  warnings.warn(msg, DataConversionWarning)\n",
      "/Users/monica/anaconda3/lib/python3.6/site-packages/sklearn/utils/validation.py:595: DataConversionWarning: Data with input dtype float64 was converted to bool by check_pairwise_arrays.\n",
      "  warnings.warn(msg, DataConversionWarning)\n",
      "/Users/monica/anaconda3/lib/python3.6/site-packages/sklearn/utils/validation.py:595: DataConversionWarning: Data with input dtype float64 was converted to bool by check_pairwise_arrays.\n",
      "  warnings.warn(msg, DataConversionWarning)\n"
     ]
    },
    {
     "name": "stdout",
     "output_type": "stream",
     "text": [
      "Fold 5 cost time 1104.3052, train RMSE: 2.1219, calibration RMSE: 2.8066, train MAE: 1.8640, calibration MAE: 2.5557\n",
      "training time: 5668.63702082634\n"
     ]
    }
   ],
   "source": [
    "start = time.time()\n",
    "model_knn_item = NearestNeighbors(metric='jaccard', algorithm='brute', n_neighbors=29, n_jobs=-1)\n",
    "knn_cv_item = CV(model_knn_item,nneigh=29,nfolds=5,data=ratings_shuffle,verbose=0,item_flag=1)\n",
    "print(\"training time:\",time.time()-start)"
   ]
  },
  {
   "cell_type": "code",
   "execution_count": 45,
   "metadata": {},
   "outputs": [
    {
     "name": "stdout",
     "output_type": "stream",
     "text": [
      "average RMSE: 2.8061, average MAE: 2.5556\n"
     ]
    }
   ],
   "source": [
    "print(\"average RMSE: {:.4f}, average MAE: {:.4f}\".format(knn_cv_item[0],knn_cv_item[1]))"
   ]
  },
  {
   "cell_type": "code",
   "execution_count": null,
   "metadata": {},
   "outputs": [],
   "source": []
  }
 ],
 "metadata": {
  "kernelspec": {
   "display_name": "Python 3",
   "language": "python",
   "name": "python3"
  },
  "language_info": {
   "codemirror_mode": {
    "name": "ipython",
    "version": 3
   },
   "file_extension": ".py",
   "mimetype": "text/x-python",
   "name": "python",
   "nbconvert_exporter": "python",
   "pygments_lexer": "ipython3",
   "version": "3.7.4"
  }
 },
 "nbformat": 4,
 "nbformat_minor": 2
}
